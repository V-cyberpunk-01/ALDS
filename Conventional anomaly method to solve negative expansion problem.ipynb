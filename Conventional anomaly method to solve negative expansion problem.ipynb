{
 "cells": [
  {
   "cell_type": "code",
   "execution_count": 1,
   "metadata": {},
   "outputs": [],
   "source": [
    "import warnings\n",
    "warnings.filterwarnings(\"ignore\")\n",
    "import matplotlib.pyplot as plt\n",
    "plt.rcParams.update({'figure.max_open_warning': 0})\n",
    "import seaborn as sns\n",
    "\n",
    "# model\n",
    "import pandas as pd\n",
    "import numpy as np\n",
    "from scipy import stats\n",
    "from sklearn.model_selection import train_test_split\n",
    "from sklearn.model_selection import GridSearchCV, RepeatedKFold, cross_val_score,cross_val_predict,KFold\n",
    "from sklearn.metrics import make_scorer,mean_squared_error,r2_score\n",
    "from sklearn.linear_model import LinearRegression, Lasso, Ridge, ElasticNet\n",
    "from sklearn.svm import LinearSVR, SVR\n",
    "from sklearn.neighbors import KNeighborsRegressor\n",
    "from sklearn.ensemble import RandomForestRegressor, GradientBoostingRegressor,AdaBoostRegressor\n",
    "from xgboost import XGBRegressor\n",
    "from sklearn.preprocessing import PolynomialFeatures,MinMaxScaler,StandardScaler\n",
    "from sklearn.preprocessing import MinMaxScaler, Normalizer\n",
    "import lightgbm as lgb"
   ]
  },
  {
   "cell_type": "markdown",
   "metadata": {},
   "source": [
    "## 拼接数据"
   ]
  },
  {
   "cell_type": "code",
   "execution_count": 2,
   "metadata": {},
   "outputs": [],
   "source": [
    "data1 = pd.read_excel('data_6.xlsx')"
   ]
  },
  {
   "cell_type": "code",
   "execution_count": 3,
   "metadata": {},
   "outputs": [],
   "source": [
    "data2 = pd.read_excel('data.xlsx')"
   ]
  },
  {
   "cell_type": "code",
   "execution_count": 4,
   "metadata": {},
   "outputs": [
    {
     "name": "stdout",
     "output_type": "stream",
     "text": [
      "False False\n"
     ]
    },
    {
     "data": {
      "text/html": [
       "<div>\n",
       "<style scoped>\n",
       "    .dataframe tbody tr th:only-of-type {\n",
       "        vertical-align: middle;\n",
       "    }\n",
       "\n",
       "    .dataframe tbody tr th {\n",
       "        vertical-align: top;\n",
       "    }\n",
       "\n",
       "    .dataframe thead th {\n",
       "        text-align: right;\n",
       "    }\n",
       "</style>\n",
       "<table border=\"1\" class=\"dataframe\">\n",
       "  <thead>\n",
       "    <tr style=\"text-align: right;\">\n",
       "      <th></th>\n",
       "      <th>Mn</th>\n",
       "      <th>Co</th>\n",
       "      <th>Cu</th>\n",
       "      <th>Ga</th>\n",
       "      <th>Ge</th>\n",
       "      <th>Nb</th>\n",
       "      <th>Ni</th>\n",
       "      <th>Si</th>\n",
       "      <th>Sn</th>\n",
       "      <th>Zn</th>\n",
       "      <th>N</th>\n",
       "      <th>C</th>\n",
       "      <th>B</th>\n",
       "      <th>Fe</th>\n",
       "      <th>Ag</th>\n",
       "      <th>element_B</th>\n",
       "      <th>Sb</th>\n",
       "      <th>Cr</th>\n",
       "      <th>Re</th>\n",
       "    </tr>\n",
       "  </thead>\n",
       "  <tbody>\n",
       "    <tr>\n",
       "      <th>0</th>\n",
       "      <td>3.1</td>\n",
       "      <td>0</td>\n",
       "      <td>0</td>\n",
       "      <td>0</td>\n",
       "      <td>0</td>\n",
       "      <td>0</td>\n",
       "      <td>0</td>\n",
       "      <td>0</td>\n",
       "      <td>0.5</td>\n",
       "      <td>0.4</td>\n",
       "      <td>1</td>\n",
       "      <td>0</td>\n",
       "      <td>0</td>\n",
       "      <td>0</td>\n",
       "      <td>0</td>\n",
       "      <td>2</td>\n",
       "      <td>0</td>\n",
       "      <td>0</td>\n",
       "      <td>0</td>\n",
       "    </tr>\n",
       "    <tr>\n",
       "      <th>1</th>\n",
       "      <td>3.1</td>\n",
       "      <td>0</td>\n",
       "      <td>0</td>\n",
       "      <td>0</td>\n",
       "      <td>0</td>\n",
       "      <td>0</td>\n",
       "      <td>0</td>\n",
       "      <td>0</td>\n",
       "      <td>0.4</td>\n",
       "      <td>0.5</td>\n",
       "      <td>1</td>\n",
       "      <td>0</td>\n",
       "      <td>0</td>\n",
       "      <td>0</td>\n",
       "      <td>0</td>\n",
       "      <td>2</td>\n",
       "      <td>0</td>\n",
       "      <td>0</td>\n",
       "      <td>0</td>\n",
       "    </tr>\n",
       "    <tr>\n",
       "      <th>2</th>\n",
       "      <td>3.1</td>\n",
       "      <td>0</td>\n",
       "      <td>0</td>\n",
       "      <td>0</td>\n",
       "      <td>0</td>\n",
       "      <td>0</td>\n",
       "      <td>0</td>\n",
       "      <td>0</td>\n",
       "      <td>0.3</td>\n",
       "      <td>0.6</td>\n",
       "      <td>1</td>\n",
       "      <td>0</td>\n",
       "      <td>0</td>\n",
       "      <td>0</td>\n",
       "      <td>0</td>\n",
       "      <td>2</td>\n",
       "      <td>0</td>\n",
       "      <td>0</td>\n",
       "      <td>0</td>\n",
       "    </tr>\n",
       "    <tr>\n",
       "      <th>3</th>\n",
       "      <td>3.2</td>\n",
       "      <td>0</td>\n",
       "      <td>0</td>\n",
       "      <td>0</td>\n",
       "      <td>0</td>\n",
       "      <td>0</td>\n",
       "      <td>0</td>\n",
       "      <td>0</td>\n",
       "      <td>0.4</td>\n",
       "      <td>0.4</td>\n",
       "      <td>1</td>\n",
       "      <td>0</td>\n",
       "      <td>0</td>\n",
       "      <td>0</td>\n",
       "      <td>0</td>\n",
       "      <td>2</td>\n",
       "      <td>0</td>\n",
       "      <td>0</td>\n",
       "      <td>0</td>\n",
       "    </tr>\n",
       "    <tr>\n",
       "      <th>4</th>\n",
       "      <td>3.2</td>\n",
       "      <td>0</td>\n",
       "      <td>0</td>\n",
       "      <td>0</td>\n",
       "      <td>0</td>\n",
       "      <td>0</td>\n",
       "      <td>0</td>\n",
       "      <td>0</td>\n",
       "      <td>0.3</td>\n",
       "      <td>0.5</td>\n",
       "      <td>1</td>\n",
       "      <td>0</td>\n",
       "      <td>0</td>\n",
       "      <td>0</td>\n",
       "      <td>0</td>\n",
       "      <td>2</td>\n",
       "      <td>0</td>\n",
       "      <td>0</td>\n",
       "      <td>0</td>\n",
       "    </tr>\n",
       "  </tbody>\n",
       "</table>\n",
       "</div>"
      ],
      "text/plain": [
       "    Mn  Co  Cu  Ga  Ge  Nb  Ni  Si   Sn   Zn  N  C  B  Fe  Ag  element_B  Sb  \\\n",
       "0  3.1   0   0   0   0   0   0   0  0.5  0.4  1  0  0   0   0          2   0   \n",
       "1  3.1   0   0   0   0   0   0   0  0.4  0.5  1  0  0   0   0          2   0   \n",
       "2  3.1   0   0   0   0   0   0   0  0.3  0.6  1  0  0   0   0          2   0   \n",
       "3  3.2   0   0   0   0   0   0   0  0.4  0.4  1  0  0   0   0          2   0   \n",
       "4  3.2   0   0   0   0   0   0   0  0.3  0.5  1  0  0   0   0          2   0   \n",
       "\n",
       "   Cr  Re  \n",
       "0   0   0  \n",
       "1   0   0  \n",
       "2   0   0  \n",
       "3   0   0  \n",
       "4   0   0  "
      ]
     },
     "execution_count": 4,
     "metadata": {},
     "output_type": "execute_result"
    }
   ],
   "source": [
    "data1 = data1.fillna(0)\n",
    "data2 = data2.fillna(0)\n",
    "print(data1.isnull().any().any(),data2.isnull().any().any())\n",
    "y1 = data1['t2']\n",
    "x1 = data1[['Mn', 'Co', 'Cu', 'Ga', 'Ge', 'Nb', 'Ni', 'Si', 'Sn', 'Zn',\n",
    "       'N', 'C', 'B', 'Fe', 'Ag', 'element_B','Sb', 'Cr', 'Re']]\n",
    "x1.head()"
   ]
  },
  {
   "cell_type": "code",
   "execution_count": 5,
   "metadata": {},
   "outputs": [
    {
     "data": {
      "text/html": [
       "<div>\n",
       "<style scoped>\n",
       "    .dataframe tbody tr th:only-of-type {\n",
       "        vertical-align: middle;\n",
       "    }\n",
       "\n",
       "    .dataframe tbody tr th {\n",
       "        vertical-align: top;\n",
       "    }\n",
       "\n",
       "    .dataframe thead th {\n",
       "        text-align: right;\n",
       "    }\n",
       "</style>\n",
       "<table border=\"1\" class=\"dataframe\">\n",
       "  <thead>\n",
       "    <tr style=\"text-align: right;\">\n",
       "      <th></th>\n",
       "      <th>Mn</th>\n",
       "      <th>Co</th>\n",
       "      <th>Cu</th>\n",
       "      <th>Ga</th>\n",
       "      <th>Ge</th>\n",
       "      <th>Nb</th>\n",
       "      <th>Ni</th>\n",
       "      <th>Si</th>\n",
       "      <th>Sn</th>\n",
       "      <th>Zn</th>\n",
       "      <th>N</th>\n",
       "      <th>C</th>\n",
       "      <th>B</th>\n",
       "      <th>Fe</th>\n",
       "      <th>Ag</th>\n",
       "      <th>element_B</th>\n",
       "      <th>Sb</th>\n",
       "      <th>Cr</th>\n",
       "      <th>Re</th>\n",
       "    </tr>\n",
       "  </thead>\n",
       "  <tbody>\n",
       "    <tr>\n",
       "      <th>0</th>\n",
       "      <td>3.00</td>\n",
       "      <td>0</td>\n",
       "      <td>0.53</td>\n",
       "      <td>0.0</td>\n",
       "      <td>0.47</td>\n",
       "      <td>0.0</td>\n",
       "      <td>0.0</td>\n",
       "      <td>0.0</td>\n",
       "      <td>0.0</td>\n",
       "      <td>0.0</td>\n",
       "      <td>1.00</td>\n",
       "      <td>0.00</td>\n",
       "      <td>0.0</td>\n",
       "      <td>0.00</td>\n",
       "      <td>0.0</td>\n",
       "      <td>2</td>\n",
       "      <td>0.0</td>\n",
       "      <td>0.0</td>\n",
       "      <td>0.0</td>\n",
       "    </tr>\n",
       "    <tr>\n",
       "      <th>1</th>\n",
       "      <td>3.00</td>\n",
       "      <td>0</td>\n",
       "      <td>0.50</td>\n",
       "      <td>0.0</td>\n",
       "      <td>0.50</td>\n",
       "      <td>0.0</td>\n",
       "      <td>0.0</td>\n",
       "      <td>0.0</td>\n",
       "      <td>0.0</td>\n",
       "      <td>0.0</td>\n",
       "      <td>1.00</td>\n",
       "      <td>0.00</td>\n",
       "      <td>0.0</td>\n",
       "      <td>0.00</td>\n",
       "      <td>0.0</td>\n",
       "      <td>2</td>\n",
       "      <td>0.0</td>\n",
       "      <td>0.0</td>\n",
       "      <td>0.0</td>\n",
       "    </tr>\n",
       "    <tr>\n",
       "      <th>2</th>\n",
       "      <td>3.00</td>\n",
       "      <td>0</td>\n",
       "      <td>0.00</td>\n",
       "      <td>0.7</td>\n",
       "      <td>0.30</td>\n",
       "      <td>0.0</td>\n",
       "      <td>0.0</td>\n",
       "      <td>0.0</td>\n",
       "      <td>0.0</td>\n",
       "      <td>0.0</td>\n",
       "      <td>0.88</td>\n",
       "      <td>0.12</td>\n",
       "      <td>0.0</td>\n",
       "      <td>0.00</td>\n",
       "      <td>0.0</td>\n",
       "      <td>2</td>\n",
       "      <td>0.0</td>\n",
       "      <td>0.0</td>\n",
       "      <td>0.0</td>\n",
       "    </tr>\n",
       "    <tr>\n",
       "      <th>3</th>\n",
       "      <td>3.10</td>\n",
       "      <td>0</td>\n",
       "      <td>0.00</td>\n",
       "      <td>0.5</td>\n",
       "      <td>0.40</td>\n",
       "      <td>0.0</td>\n",
       "      <td>0.0</td>\n",
       "      <td>0.0</td>\n",
       "      <td>0.0</td>\n",
       "      <td>0.0</td>\n",
       "      <td>1.00</td>\n",
       "      <td>0.00</td>\n",
       "      <td>0.0</td>\n",
       "      <td>0.00</td>\n",
       "      <td>0.0</td>\n",
       "      <td>3</td>\n",
       "      <td>0.0</td>\n",
       "      <td>0.0</td>\n",
       "      <td>0.0</td>\n",
       "    </tr>\n",
       "    <tr>\n",
       "      <th>4</th>\n",
       "      <td>2.88</td>\n",
       "      <td>0</td>\n",
       "      <td>0.00</td>\n",
       "      <td>0.0</td>\n",
       "      <td>0.50</td>\n",
       "      <td>0.0</td>\n",
       "      <td>0.0</td>\n",
       "      <td>0.0</td>\n",
       "      <td>0.0</td>\n",
       "      <td>0.5</td>\n",
       "      <td>1.00</td>\n",
       "      <td>0.00</td>\n",
       "      <td>0.0</td>\n",
       "      <td>0.12</td>\n",
       "      <td>0.0</td>\n",
       "      <td>2</td>\n",
       "      <td>0.0</td>\n",
       "      <td>0.0</td>\n",
       "      <td>0.0</td>\n",
       "    </tr>\n",
       "  </tbody>\n",
       "</table>\n",
       "</div>"
      ],
      "text/plain": [
       "     Mn  Co    Cu   Ga    Ge   Nb   Ni   Si   Sn   Zn     N     C    B    Fe  \\\n",
       "0  3.00   0  0.53  0.0  0.47  0.0  0.0  0.0  0.0  0.0  1.00  0.00  0.0  0.00   \n",
       "1  3.00   0  0.50  0.0  0.50  0.0  0.0  0.0  0.0  0.0  1.00  0.00  0.0  0.00   \n",
       "2  3.00   0  0.00  0.7  0.30  0.0  0.0  0.0  0.0  0.0  0.88  0.12  0.0  0.00   \n",
       "3  3.10   0  0.00  0.5  0.40  0.0  0.0  0.0  0.0  0.0  1.00  0.00  0.0  0.00   \n",
       "4  2.88   0  0.00  0.0  0.50  0.0  0.0  0.0  0.0  0.5  1.00  0.00  0.0  0.12   \n",
       "\n",
       "    Ag  element_B   Sb   Cr   Re  \n",
       "0  0.0          2  0.0  0.0  0.0  \n",
       "1  0.0          2  0.0  0.0  0.0  \n",
       "2  0.0          2  0.0  0.0  0.0  \n",
       "3  0.0          3  0.0  0.0  0.0  \n",
       "4  0.0          2  0.0  0.0  0.0  "
      ]
     },
     "execution_count": 5,
     "metadata": {},
     "output_type": "execute_result"
    }
   ],
   "source": [
    "y2 = data2['t2']\n",
    "x2 = data2[['Mn', 'Co', 'Cu', 'Ga', 'Ge', 'Nb', 'Ni', 'Si', 'Sn', 'Zn',\n",
    "       'N', 'C', 'B', 'Fe', 'Ag', 'element_B','Sb', 'Cr', 'Re']]\n",
    "x2.head()"
   ]
  },
  {
   "cell_type": "code",
   "execution_count": 6,
   "metadata": {},
   "outputs": [],
   "source": [
    "x = x1.append(x2)\n",
    "y = y1.append(y2)"
   ]
  },
  {
   "cell_type": "code",
   "execution_count": 7,
   "metadata": {},
   "outputs": [
    {
     "data": {
      "image/png": "[encoded data removed]",
      "text/plain": [
       "<Figure size 864x288 with 2 Axes>"
      ]
     },
     "metadata": {
      "needs_background": "light"
     },
     "output_type": "display_data"
    }
   ],
   "source": [
    "plt.figure(figsize=(12,4))\n",
    "plt.subplot(1,2,1)\n",
    "sns.distplot(y.dropna(),fit=stats.norm);\n",
    "plt.subplot(1,2,2)\n",
    "_ = stats.probplot(y.dropna(),plot=plt)"
   ]
  },
  {
   "cell_type": "code",
   "execution_count": 8,
   "metadata": {},
   "outputs": [
    {
     "data": {
      "text/html": [
       "<div>\n",
       "<style scoped>\n",
       "    .dataframe tbody tr th:only-of-type {\n",
       "        vertical-align: middle;\n",
       "    }\n",
       "\n",
       "    .dataframe tbody tr th {\n",
       "        vertical-align: top;\n",
       "    }\n",
       "\n",
       "    .dataframe thead th {\n",
       "        text-align: right;\n",
       "    }\n",
       "</style>\n",
       "<table border=\"1\" class=\"dataframe\">\n",
       "  <thead>\n",
       "    <tr style=\"text-align: right;\">\n",
       "      <th></th>\n",
       "      <th>Mn</th>\n",
       "      <th>Co</th>\n",
       "      <th>Cu</th>\n",
       "      <th>Ga</th>\n",
       "      <th>Ge</th>\n",
       "      <th>Nb</th>\n",
       "      <th>Ni</th>\n",
       "      <th>Si</th>\n",
       "      <th>Sn</th>\n",
       "      <th>Zn</th>\n",
       "      <th>N</th>\n",
       "      <th>C</th>\n",
       "      <th>B</th>\n",
       "      <th>Fe</th>\n",
       "      <th>Ag</th>\n",
       "      <th>element_B</th>\n",
       "      <th>Sb</th>\n",
       "      <th>Cr</th>\n",
       "      <th>Re</th>\n",
       "    </tr>\n",
       "  </thead>\n",
       "  <tbody>\n",
       "    <tr>\n",
       "      <th>0</th>\n",
       "      <td>3.1</td>\n",
       "      <td>0</td>\n",
       "      <td>0.0</td>\n",
       "      <td>0.0</td>\n",
       "      <td>0.0</td>\n",
       "      <td>0.0</td>\n",
       "      <td>0.0</td>\n",
       "      <td>0.0</td>\n",
       "      <td>0.5</td>\n",
       "      <td>0.4</td>\n",
       "      <td>1.0</td>\n",
       "      <td>0.0</td>\n",
       "      <td>0.0</td>\n",
       "      <td>0.0</td>\n",
       "      <td>0.0</td>\n",
       "      <td>2</td>\n",
       "      <td>0.0</td>\n",
       "      <td>0.0</td>\n",
       "      <td>0.0</td>\n",
       "    </tr>\n",
       "    <tr>\n",
       "      <th>1</th>\n",
       "      <td>3.1</td>\n",
       "      <td>0</td>\n",
       "      <td>0.0</td>\n",
       "      <td>0.0</td>\n",
       "      <td>0.0</td>\n",
       "      <td>0.0</td>\n",
       "      <td>0.0</td>\n",
       "      <td>0.0</td>\n",
       "      <td>0.4</td>\n",
       "      <td>0.5</td>\n",
       "      <td>1.0</td>\n",
       "      <td>0.0</td>\n",
       "      <td>0.0</td>\n",
       "      <td>0.0</td>\n",
       "      <td>0.0</td>\n",
       "      <td>2</td>\n",
       "      <td>0.0</td>\n",
       "      <td>0.0</td>\n",
       "      <td>0.0</td>\n",
       "    </tr>\n",
       "    <tr>\n",
       "      <th>2</th>\n",
       "      <td>3.1</td>\n",
       "      <td>0</td>\n",
       "      <td>0.0</td>\n",
       "      <td>0.0</td>\n",
       "      <td>0.0</td>\n",
       "      <td>0.0</td>\n",
       "      <td>0.0</td>\n",
       "      <td>0.0</td>\n",
       "      <td>0.3</td>\n",
       "      <td>0.6</td>\n",
       "      <td>1.0</td>\n",
       "      <td>0.0</td>\n",
       "      <td>0.0</td>\n",
       "      <td>0.0</td>\n",
       "      <td>0.0</td>\n",
       "      <td>2</td>\n",
       "      <td>0.0</td>\n",
       "      <td>0.0</td>\n",
       "      <td>0.0</td>\n",
       "    </tr>\n",
       "    <tr>\n",
       "      <th>3</th>\n",
       "      <td>3.2</td>\n",
       "      <td>0</td>\n",
       "      <td>0.0</td>\n",
       "      <td>0.0</td>\n",
       "      <td>0.0</td>\n",
       "      <td>0.0</td>\n",
       "      <td>0.0</td>\n",
       "      <td>0.0</td>\n",
       "      <td>0.4</td>\n",
       "      <td>0.4</td>\n",
       "      <td>1.0</td>\n",
       "      <td>0.0</td>\n",
       "      <td>0.0</td>\n",
       "      <td>0.0</td>\n",
       "      <td>0.0</td>\n",
       "      <td>2</td>\n",
       "      <td>0.0</td>\n",
       "      <td>0.0</td>\n",
       "      <td>0.0</td>\n",
       "    </tr>\n",
       "    <tr>\n",
       "      <th>4</th>\n",
       "      <td>3.2</td>\n",
       "      <td>0</td>\n",
       "      <td>0.0</td>\n",
       "      <td>0.0</td>\n",
       "      <td>0.0</td>\n",
       "      <td>0.0</td>\n",
       "      <td>0.0</td>\n",
       "      <td>0.0</td>\n",
       "      <td>0.3</td>\n",
       "      <td>0.5</td>\n",
       "      <td>1.0</td>\n",
       "      <td>0.0</td>\n",
       "      <td>0.0</td>\n",
       "      <td>0.0</td>\n",
       "      <td>0.0</td>\n",
       "      <td>2</td>\n",
       "      <td>0.0</td>\n",
       "      <td>0.0</td>\n",
       "      <td>0.0</td>\n",
       "    </tr>\n",
       "  </tbody>\n",
       "</table>\n",
       "</div>"
      ],
      "text/plain": [
       "    Mn  Co   Cu   Ga   Ge   Nb   Ni   Si   Sn   Zn    N    C    B   Fe   Ag  \\\n",
       "0  3.1   0  0.0  0.0  0.0  0.0  0.0  0.0  0.5  0.4  1.0  0.0  0.0  0.0  0.0   \n",
       "1  3.1   0  0.0  0.0  0.0  0.0  0.0  0.0  0.4  0.5  1.0  0.0  0.0  0.0  0.0   \n",
       "2  3.1   0  0.0  0.0  0.0  0.0  0.0  0.0  0.3  0.6  1.0  0.0  0.0  0.0  0.0   \n",
       "3  3.2   0  0.0  0.0  0.0  0.0  0.0  0.0  0.4  0.4  1.0  0.0  0.0  0.0  0.0   \n",
       "4  3.2   0  0.0  0.0  0.0  0.0  0.0  0.0  0.3  0.5  1.0  0.0  0.0  0.0  0.0   \n",
       "\n",
       "   element_B   Sb   Cr   Re  \n",
       "0          2  0.0  0.0  0.0  \n",
       "1          2  0.0  0.0  0.0  \n",
       "2          2  0.0  0.0  0.0  \n",
       "3          2  0.0  0.0  0.0  \n",
       "4          2  0.0  0.0  0.0  "
      ]
     },
     "execution_count": 8,
     "metadata": {},
     "output_type": "execute_result"
    }
   ],
   "source": [
    "x.head()"
   ]
  },
  {
   "cell_type": "code",
   "execution_count": 9,
   "metadata": {},
   "outputs": [
    {
     "data": {
      "text/plain": [
       "(129, 19)"
      ]
     },
     "execution_count": 9,
     "metadata": {},
     "output_type": "execute_result"
    }
   ],
   "source": [
    "x.shape"
   ]
  },
  {
   "cell_type": "code",
   "execution_count": 10,
   "metadata": {},
   "outputs": [
    {
     "data": {
      "text/plain": [
       "(129,)"
      ]
     },
     "execution_count": 10,
     "metadata": {},
     "output_type": "execute_result"
    }
   ],
   "source": [
    "y.shape"
   ]
  },
  {
   "cell_type": "code",
   "execution_count": 11,
   "metadata": {},
   "outputs": [
    {
     "data": {
      "text/html": [
       "<div>\n",
       "<style scoped>\n",
       "    .dataframe tbody tr th:only-of-type {\n",
       "        vertical-align: middle;\n",
       "    }\n",
       "\n",
       "    .dataframe tbody tr th {\n",
       "        vertical-align: top;\n",
       "    }\n",
       "\n",
       "    .dataframe thead th {\n",
       "        text-align: right;\n",
       "    }\n",
       "</style>\n",
       "<table border=\"1\" class=\"dataframe\">\n",
       "  <thead>\n",
       "    <tr style=\"text-align: right;\">\n",
       "      <th></th>\n",
       "      <th>0</th>\n",
       "      <th>1</th>\n",
       "      <th>2</th>\n",
       "      <th>3</th>\n",
       "      <th>4</th>\n",
       "      <th>5</th>\n",
       "      <th>6</th>\n",
       "      <th>7</th>\n",
       "      <th>8</th>\n",
       "      <th>9</th>\n",
       "      <th>10</th>\n",
       "      <th>11</th>\n",
       "      <th>12</th>\n",
       "      <th>13</th>\n",
       "      <th>14</th>\n",
       "      <th>15</th>\n",
       "      <th>16</th>\n",
       "      <th>17</th>\n",
       "      <th>18</th>\n",
       "    </tr>\n",
       "  </thead>\n",
       "  <tbody>\n",
       "    <tr>\n",
       "      <th>0</th>\n",
       "      <td>0.767431</td>\n",
       "      <td>0.0</td>\n",
       "      <td>-1.056675</td>\n",
       "      <td>-0.437706</td>\n",
       "      <td>-0.806016</td>\n",
       "      <td>-0.219942</td>\n",
       "      <td>-0.201151</td>\n",
       "      <td>-0.32835</td>\n",
       "      <td>1.693257</td>\n",
       "      <td>1.477822</td>\n",
       "      <td>0.378477</td>\n",
       "      <td>-0.373457</td>\n",
       "      <td>-0.154303</td>\n",
       "      <td>-0.088388</td>\n",
       "      <td>-0.32752</td>\n",
       "      <td>-0.48592</td>\n",
       "      <td>-0.252357</td>\n",
       "      <td>-0.142615</td>\n",
       "      <td>-0.135724</td>\n",
       "    </tr>\n",
       "    <tr>\n",
       "      <th>1</th>\n",
       "      <td>0.767431</td>\n",
       "      <td>0.0</td>\n",
       "      <td>-1.056675</td>\n",
       "      <td>-0.437706</td>\n",
       "      <td>-0.806016</td>\n",
       "      <td>-0.219942</td>\n",
       "      <td>-0.201151</td>\n",
       "      <td>-0.32835</td>\n",
       "      <td>1.224221</td>\n",
       "      <td>1.968527</td>\n",
       "      <td>0.378477</td>\n",
       "      <td>-0.373457</td>\n",
       "      <td>-0.154303</td>\n",
       "      <td>-0.088388</td>\n",
       "      <td>-0.32752</td>\n",
       "      <td>-0.48592</td>\n",
       "      <td>-0.252357</td>\n",
       "      <td>-0.142615</td>\n",
       "      <td>-0.135724</td>\n",
       "    </tr>\n",
       "    <tr>\n",
       "      <th>2</th>\n",
       "      <td>0.767431</td>\n",
       "      <td>0.0</td>\n",
       "      <td>-1.056675</td>\n",
       "      <td>-0.437706</td>\n",
       "      <td>-0.806016</td>\n",
       "      <td>-0.219942</td>\n",
       "      <td>-0.201151</td>\n",
       "      <td>-0.32835</td>\n",
       "      <td>0.755185</td>\n",
       "      <td>2.459233</td>\n",
       "      <td>0.378477</td>\n",
       "      <td>-0.373457</td>\n",
       "      <td>-0.154303</td>\n",
       "      <td>-0.088388</td>\n",
       "      <td>-0.32752</td>\n",
       "      <td>-0.48592</td>\n",
       "      <td>-0.252357</td>\n",
       "      <td>-0.142615</td>\n",
       "      <td>-0.135724</td>\n",
       "    </tr>\n",
       "    <tr>\n",
       "      <th>3</th>\n",
       "      <td>1.733272</td>\n",
       "      <td>0.0</td>\n",
       "      <td>-1.056675</td>\n",
       "      <td>-0.437706</td>\n",
       "      <td>-0.806016</td>\n",
       "      <td>-0.219942</td>\n",
       "      <td>-0.201151</td>\n",
       "      <td>-0.32835</td>\n",
       "      <td>1.224221</td>\n",
       "      <td>1.477822</td>\n",
       "      <td>0.378477</td>\n",
       "      <td>-0.373457</td>\n",
       "      <td>-0.154303</td>\n",
       "      <td>-0.088388</td>\n",
       "      <td>-0.32752</td>\n",
       "      <td>-0.48592</td>\n",
       "      <td>-0.252357</td>\n",
       "      <td>-0.142615</td>\n",
       "      <td>-0.135724</td>\n",
       "    </tr>\n",
       "    <tr>\n",
       "      <th>4</th>\n",
       "      <td>1.733272</td>\n",
       "      <td>0.0</td>\n",
       "      <td>-1.056675</td>\n",
       "      <td>-0.437706</td>\n",
       "      <td>-0.806016</td>\n",
       "      <td>-0.219942</td>\n",
       "      <td>-0.201151</td>\n",
       "      <td>-0.32835</td>\n",
       "      <td>0.755185</td>\n",
       "      <td>1.968527</td>\n",
       "      <td>0.378477</td>\n",
       "      <td>-0.373457</td>\n",
       "      <td>-0.154303</td>\n",
       "      <td>-0.088388</td>\n",
       "      <td>-0.32752</td>\n",
       "      <td>-0.48592</td>\n",
       "      <td>-0.252357</td>\n",
       "      <td>-0.142615</td>\n",
       "      <td>-0.135724</td>\n",
       "    </tr>\n",
       "  </tbody>\n",
       "</table>\n",
       "</div>"
      ],
      "text/plain": [
       "         0    1         2         3         4         5         6        7   \\\n",
       "0  0.767431  0.0 -1.056675 -0.437706 -0.806016 -0.219942 -0.201151 -0.32835   \n",
       "1  0.767431  0.0 -1.056675 -0.437706 -0.806016 -0.219942 -0.201151 -0.32835   \n",
       "2  0.767431  0.0 -1.056675 -0.437706 -0.806016 -0.219942 -0.201151 -0.32835   \n",
       "3  1.733272  0.0 -1.056675 -0.437706 -0.806016 -0.219942 -0.201151 -0.32835   \n",
       "4  1.733272  0.0 -1.056675 -0.437706 -0.806016 -0.219942 -0.201151 -0.32835   \n",
       "\n",
       "         8         9         10        11        12        13       14  \\\n",
       "0  1.693257  1.477822  0.378477 -0.373457 -0.154303 -0.088388 -0.32752   \n",
       "1  1.224221  1.968527  0.378477 -0.373457 -0.154303 -0.088388 -0.32752   \n",
       "2  0.755185  2.459233  0.378477 -0.373457 -0.154303 -0.088388 -0.32752   \n",
       "3  1.224221  1.477822  0.378477 -0.373457 -0.154303 -0.088388 -0.32752   \n",
       "4  0.755185  1.968527  0.378477 -0.373457 -0.154303 -0.088388 -0.32752   \n",
       "\n",
       "        15        16        17        18  \n",
       "0 -0.48592 -0.252357 -0.142615 -0.135724  \n",
       "1 -0.48592 -0.252357 -0.142615 -0.135724  \n",
       "2 -0.48592 -0.252357 -0.142615 -0.135724  \n",
       "3 -0.48592 -0.252357 -0.142615 -0.135724  \n",
       "4 -0.48592 -0.252357 -0.142615 -0.135724  "
      ]
     },
     "execution_count": 11,
     "metadata": {},
     "output_type": "execute_result"
    }
   ],
   "source": [
    "from sklearn import preprocessing\n",
    "standar = preprocessing.StandardScaler()\n",
    "x = pd.DataFrame(standar.fit_transform(x))\n",
    "x.head()"
   ]
  },
  {
   "cell_type": "code",
   "execution_count": 12,
   "metadata": {},
   "outputs": [
    {
     "data": {
      "text/plain": [
       "(129, 19)"
      ]
     },
     "execution_count": 12,
     "metadata": {},
     "output_type": "execute_result"
    }
   ],
   "source": [
    "x.shape"
   ]
  },
  {
   "cell_type": "code",
   "execution_count": 13,
   "metadata": {},
   "outputs": [],
   "source": [
    "from sklearn.model_selection  import KFold\n",
    "import numpy as np\n",
    "\n",
    "def mean_relative_error(y_true,y_pred):\n",
    "    \n",
    "    # print(y_pred)\n",
    "    # print(y_true.values.squeeze())\n",
    "    # print(np.array(y_true).squeeze())\n",
    "    y_true = np.array(y_true).squeeze()\n",
    "    # print(y_true)\n",
    "    # print(abs(y_true - y_pred) )\n",
    "    # print(abs(y_true - y_pred) / abs(y_true))\n",
    "    relative_error = np.average(abs(y_true - y_pred) / abs(y_true),axis=0)\n",
    "    # print(relative_error)\n",
    "    return relative_error\n",
    "\n",
    "def kfold_relative_error(model,X=x,y=y):\n",
    "   # 5折交叉验证\n",
    "    Folds=5\n",
    "    kf = KFold(n_splits = 2 ,shuffle=True, random_state = 2021)\n",
    "    # 记录训练和预测MSE\n",
    "    # 记录训练和预测r2\n",
    "    train_r2_ = []\n",
    "    test_r2_ = []\n",
    "\n",
    "    # 线下训练预测\n",
    "    for (train, test) in (kf.split(X,y)):\n",
    "\n",
    "       # 切分训练集和预测集\n",
    "        X_train, X_test = X.iloc[train], X.iloc[test]\n",
    "        y_train, y_test = y.iloc[train], y.iloc[test]\n",
    "\n",
    "        # 训练模型\n",
    "        model.fit(X_train,y_train)\n",
    "\n",
    "        # 训练集预测 测试集预测\n",
    "        y_train_KFold_predict = model.predict(X_train)\n",
    "        y_test_KFold_predict = model.predict(X_test) \n",
    "\n",
    "        #print('第{}折 训练和预测 训练r2 预测r2'.format(i))\n",
    "        train_r2 = model.score(X_train,y_train)\n",
    "#         train_r2 = mean_relative_error(y_train,y_train_KFold_predict)\n",
    "        # print('------', '训练r2', train_r2, '------')\n",
    "        test_r2 = model.score(X_test,y_test)\n",
    "#         test_r2 = mean_relative_error(y_test,y_test_KFold_predict)\n",
    "        #print('------', '预测r2', test_r2, '------')\n",
    "\n",
    "        train_r2_.append(train_r2)\n",
    "        test_r2_.append(test_r2)\n",
    "\n",
    "    mean_r2_train = np.mean(train_r2_)\n",
    "    mean_r2_test = np.mean(test_r2_)\n",
    "    \n",
    "    return(mean_r2_train,mean_r2_test)"
   ]
  },
  {
   "cell_type": "code",
   "execution_count": 14,
   "metadata": {},
   "outputs": [
    {
     "name": "stdout",
     "output_type": "stream",
     "text": [
      "0.9932098465464313\n",
      "0.8510898615588125\n"
     ]
    },
    {
     "data": {
      "image/png": "[encoded data removed]",
      "text/plain": [
       "<Figure size 432x288 with 1 Axes>"
      ]
     },
     "metadata": {
      "needs_background": "light"
     },
     "output_type": "display_data"
    }
   ],
   "source": [
    "train_scores = []\n",
    "test_scores = []\n",
    "for i in range(10,1000,10):\n",
    "    clf = SVR(C=i)\n",
    "    train, test = kfold_relative_error(clf,x,y)\n",
    "    train_scores.append(train)\n",
    "    test_scores.append(test)\n",
    "plt.plot(test_scores, color='green',label=\"test\")\n",
    "plt.plot(train_scores, color='red',label='train')\n",
    "plt.title(\"number of estimator VS cv error\")\n",
    "print(np.max(train_scores))\n",
    "print(np.max(test_scores))"
   ]
  },
  {
   "cell_type": "code",
   "execution_count": 22,
   "metadata": {},
   "outputs": [
    {
     "name": "stdout",
     "output_type": "stream",
     "text": [
      "0.9995428712435869\n",
      "0.8079963555397709\n"
     ]
    },
    {
     "data": {
      "image/png": "[encoded data removed]",
      "text/plain": [
       "<Figure size 432x288 with 1 Axes>"
      ]
     },
     "metadata": {
      "needs_background": "light"
     },
     "output_type": "display_data"
    }
   ],
   "source": [
    "train_scores = []\n",
    "test_scores = []\n",
    "for i in range(5,1000,10):\n",
    "    clf = GradientBoostingRegressor(n_estimators=i)\n",
    "    train, test = kfold_relative_error(clf,x,y)\n",
    "    train_scores.append(train)\n",
    "    test_scores.append(test)\n",
    "plt.plot(test_scores, color='green',label=\"test\")\n",
    "plt.plot(train_scores, color='red',label='train')\n",
    "plt.title(\"number of estimator VS cv error\")\n",
    "print(np.max(train_scores))\n",
    "print(np.max(test_scores))"
   ]
  },
  {
   "cell_type": "code",
   "execution_count": 26,
   "metadata": {},
   "outputs": [
    {
     "name": "stdout",
     "output_type": "stream",
     "text": [
      "0.9995429028355822\n",
      "0.8118553590773216\n"
     ]
    },
    {
     "data": {
      "image/png": "[encoded data removed]",
      "text/plain": [
       "<Figure size 432x288 with 1 Axes>"
      ]
     },
     "metadata": {
      "needs_background": "light"
     },
     "output_type": "display_data"
    }
   ],
   "source": [
    "train_scores = []\n",
    "test_scores = []\n",
    "for i in range(10,1000,10):\n",
    "    clf = XGBRegressor(max_depth=3,n_estimators=i,random_state=2021)\n",
    "    train, test = kfold_relative_error(clf,x,y)\n",
    "    train_scores.append(train)\n",
    "    test_scores.append(test)\n",
    "plt.plot(test_scores, color='green',label=\"test\")\n",
    "plt.plot(train_scores, color='red',label='train')\n",
    "plt.title(\"number of estimator VS cv error\")\n",
    "print(np.max(train_scores))\n",
    "print(np.max(test_scores))"
   ]
  },
  {
   "cell_type": "markdown",
   "metadata": {},
   "source": [
    "## 预测未知的三条"
   ]
  },
  {
   "cell_type": "code",
   "execution_count": 17,
   "metadata": {},
   "outputs": [],
   "source": [
    "data_val = pd.read_excel('data_val.xls')\n",
    "\n",
    "y_ = data_val['t2']\n",
    "x_ = data_val[['Mn', 'Co', 'Cu', 'Ga', 'Ge', 'Nb', 'Ni', 'Si', 'Sn', 'Zn',\n",
    "       'N', 'C', 'B', 'Fe', 'Ag', 'element_B','Sb', 'Cr', 'Re']]"
   ]
  },
  {
   "cell_type": "code",
   "execution_count": 18,
   "metadata": {},
   "outputs": [],
   "source": [
    "# from sklearn import preprocessing\n",
    "# standar = preprocessing.StandardScaler()\n",
    "# x_ = pd.DataFrame(standar.fit_transform(x_))\n",
    "# x_.head()"
   ]
  },
  {
   "cell_type": "code",
   "execution_count": 19,
   "metadata": {},
   "outputs": [],
   "source": [
    "y_pre = clf.predict(x_)"
   ]
  },
  {
   "cell_type": "code",
   "execution_count": 20,
   "metadata": {},
   "outputs": [
    {
     "data": {
      "text/plain": [
       "array([242.62474843, 238.51574777, 234.57830908])"
      ]
     },
     "execution_count": 20,
     "metadata": {},
     "output_type": "execute_result"
    }
   ],
   "source": [
    "y_pre"
   ]
  },
  {
   "cell_type": "code",
   "execution_count": 21,
   "metadata": {},
   "outputs": [
    {
     "data": {
      "text/plain": [
       "0    306\n",
       "1    273\n",
       "2    217\n",
       "Name: t2, dtype: int64"
      ]
     },
     "execution_count": 21,
     "metadata": {},
     "output_type": "execute_result"
    }
   ],
   "source": [
    "y_"
   ]
  },
  {
   "cell_type": "code",
   "execution_count": null,
   "metadata": {},
   "outputs": [],
   "source": []
  }
 ],
 "metadata": {
  "kernelspec": {
   "display_name": "Python 3 (ipykernel)",
   "language": "python",
   "name": "python3"
  },
  "language_info": {
   "codemirror_mode": {
    "name": "ipython",
    "version": 3
   },
   "file_extension": ".py",
   "mimetype": "text/x-python",
   "name": "python",
   "nbconvert_exporter": "python",
   "pygments_lexer": "ipython3",
   "version": "3.7.6"
  },
  "toc": {
   "base_numbering": 1,
   "nav_menu": {},
   "number_sections": true,
   "sideBar": true,
   "skip_h1_title": false,
   "title_cell": "Table of Contents",
   "title_sidebar": "Contents",
   "toc_cell": false,
   "toc_position": {},
   "toc_section_display": true,
   "toc_window_display": true
  },
  "varInspector": {
   "cols": {
    "lenName": 16,
    "lenType": 16,
    "lenVar": 40
   },
   "kernels_config": {
    "python": {
     "delete_cmd_postfix": "",
     "delete_cmd_prefix": "del ",
     "library": "var_list.py",
     "varRefreshCmd": "print(var_dic_list())"
    },
    "r": {
     "delete_cmd_postfix": ") ",
     "delete_cmd_prefix": "rm(",
     "library": "var_list.r",
     "varRefreshCmd": "cat(var_dic_list()) "
    }
   },
   "types_to_exclude": [
    "module",
    "function",
    "builtin_function_or_method",
    "instance",
    "_Feature"
   ],
   "window_display": false
  }
 },
 "nbformat": 4,
 "nbformat_minor": 4
}
