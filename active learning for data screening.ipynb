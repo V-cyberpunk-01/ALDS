{
 "cells": [
  {
   "cell_type": "code",
   "execution_count": 2,
   "metadata": {},
   "outputs": [],
   "source": [
    "import warnings\n",
    "warnings.filterwarnings(\"ignore\")\n",
    "import matplotlib.pyplot as plt\n",
    "plt.rcParams.update({'figure.max_open_warning': 0})\n",
    "import seaborn as sns\n",
    "import copy\n",
    "# model\n",
    "import pandas as pd\n",
    "import numpy as np\n",
    "from scipy import stats\n",
    "from sklearn.model_selection import train_test_split\n",
    "from sklearn.model_selection import GridSearchCV, RepeatedKFold, cross_val_score,cross_val_predict,KFold\n",
    "from sklearn.metrics import make_scorer,mean_squared_error,r2_score\n",
    "# import sklearn.metrics.mean_absolute_percentage_error as mape\n",
    "# import sklearn.mean_squared_error as mse\n",
    "from sklearn.linear_model import LinearRegression, Lasso, Ridge, ElasticNet\n",
    "from sklearn.svm import LinearSVR, SVR\n",
    "from sklearn.neighbors import KNeighborsRegressor\n",
    "from sklearn.ensemble import RandomForestRegressor, GradientBoostingRegressor,AdaBoostRegressor\n",
    "from xgboost import XGBRegressor\n",
    "from sklearn.preprocessing import PolynomialFeatures,MinMaxScaler,StandardScaler\n",
    "from sklearn.preprocessing import MinMaxScaler, Normalizer\n",
    "import lightgbm as lgb\n",
    "from sklearn.model_selection import GridSearchCV as cv\n",
    "from sklearn.utils import shuffle"
   ]
  },
  {
   "cell_type": "markdown",
   "metadata": {},
   "source": [
    "## Data Reading"
   ]
  },
  {
   "cell_type": "markdown",
   "metadata": {},
   "source": [
    "### Initial data L（4train+2val）"
   ]
  },
  {
   "cell_type": "code",
   "execution_count": 3,
   "metadata": {},
   "outputs": [],
   "source": [
    "data_truth = pd.read_excel('data/Initial data L.xlsx')"
   ]
  },
  {
   "cell_type": "code",
   "execution_count": 4,
   "metadata": {},
   "outputs": [
    {
     "data": {
      "text/html": [
       "<div>\n",
       "<style scoped>\n",
       "    .dataframe tbody tr th:only-of-type {\n",
       "        vertical-align: middle;\n",
       "    }\n",
       "\n",
       "    .dataframe tbody tr th {\n",
       "        vertical-align: top;\n",
       "    }\n",
       "\n",
       "    .dataframe thead th {\n",
       "        text-align: right;\n",
       "    }\n",
       "</style>\n",
       "<table border=\"1\" class=\"dataframe\">\n",
       "  <thead>\n",
       "    <tr style=\"text-align: right;\">\n",
       "      <th></th>\n",
       "      <th>formula</th>\n",
       "      <th>Mn</th>\n",
       "      <th>Co</th>\n",
       "      <th>Cu</th>\n",
       "      <th>Ga</th>\n",
       "      <th>Ge</th>\n",
       "      <th>Nb</th>\n",
       "      <th>Ni</th>\n",
       "      <th>Si</th>\n",
       "      <th>Sn</th>\n",
       "      <th>...</th>\n",
       "      <th>B</th>\n",
       "      <th>Fe</th>\n",
       "      <th>Ag</th>\n",
       "      <th>element_B</th>\n",
       "      <th>Sb</th>\n",
       "      <th>Cr</th>\n",
       "      <th>Re</th>\n",
       "      <th>alpha</th>\n",
       "      <th>t1</th>\n",
       "      <th>t2</th>\n",
       "    </tr>\n",
       "  </thead>\n",
       "  <tbody>\n",
       "    <tr>\n",
       "      <th>0</th>\n",
       "      <td>Mn3.1Zn0.4Sn0.5N</td>\n",
       "      <td>3.1</td>\n",
       "      <td>0</td>\n",
       "      <td>0</td>\n",
       "      <td>0</td>\n",
       "      <td>0</td>\n",
       "      <td>0</td>\n",
       "      <td>0</td>\n",
       "      <td>0</td>\n",
       "      <td>0.5</td>\n",
       "      <td>...</td>\n",
       "      <td>0</td>\n",
       "      <td>0</td>\n",
       "      <td>0</td>\n",
       "      <td>2</td>\n",
       "      <td>0</td>\n",
       "      <td>0</td>\n",
       "      <td>0</td>\n",
       "      <td>-7.93</td>\n",
       "      <td>391</td>\n",
       "      <td>439</td>\n",
       "    </tr>\n",
       "    <tr>\n",
       "      <th>1</th>\n",
       "      <td>Mn3.1Zn0.5Sn0.4N</td>\n",
       "      <td>3.1</td>\n",
       "      <td>0</td>\n",
       "      <td>0</td>\n",
       "      <td>0</td>\n",
       "      <td>0</td>\n",
       "      <td>0</td>\n",
       "      <td>0</td>\n",
       "      <td>0</td>\n",
       "      <td>0.4</td>\n",
       "      <td>...</td>\n",
       "      <td>0</td>\n",
       "      <td>0</td>\n",
       "      <td>0</td>\n",
       "      <td>2</td>\n",
       "      <td>0</td>\n",
       "      <td>0</td>\n",
       "      <td>0</td>\n",
       "      <td>-25.30</td>\n",
       "      <td>313</td>\n",
       "      <td>371</td>\n",
       "    </tr>\n",
       "    <tr>\n",
       "      <th>2</th>\n",
       "      <td>Mn3.1Zn0.6Sn0.3N</td>\n",
       "      <td>3.1</td>\n",
       "      <td>0</td>\n",
       "      <td>0</td>\n",
       "      <td>0</td>\n",
       "      <td>0</td>\n",
       "      <td>0</td>\n",
       "      <td>0</td>\n",
       "      <td>0</td>\n",
       "      <td>0.3</td>\n",
       "      <td>...</td>\n",
       "      <td>0</td>\n",
       "      <td>0</td>\n",
       "      <td>0</td>\n",
       "      <td>2</td>\n",
       "      <td>0</td>\n",
       "      <td>0</td>\n",
       "      <td>0</td>\n",
       "      <td>-29.70</td>\n",
       "      <td>330</td>\n",
       "      <td>381</td>\n",
       "    </tr>\n",
       "    <tr>\n",
       "      <th>3</th>\n",
       "      <td>Mn3.2Zn0.4Sn0.4N</td>\n",
       "      <td>3.2</td>\n",
       "      <td>0</td>\n",
       "      <td>0</td>\n",
       "      <td>0</td>\n",
       "      <td>0</td>\n",
       "      <td>0</td>\n",
       "      <td>0</td>\n",
       "      <td>0</td>\n",
       "      <td>0.4</td>\n",
       "      <td>...</td>\n",
       "      <td>0</td>\n",
       "      <td>0</td>\n",
       "      <td>0</td>\n",
       "      <td>2</td>\n",
       "      <td>0</td>\n",
       "      <td>0</td>\n",
       "      <td>0</td>\n",
       "      <td>-9.91</td>\n",
       "      <td>357</td>\n",
       "      <td>413</td>\n",
       "    </tr>\n",
       "    <tr>\n",
       "      <th>4</th>\n",
       "      <td>Mn3.2Zn0.5Sn0.3N</td>\n",
       "      <td>3.2</td>\n",
       "      <td>0</td>\n",
       "      <td>0</td>\n",
       "      <td>0</td>\n",
       "      <td>0</td>\n",
       "      <td>0</td>\n",
       "      <td>0</td>\n",
       "      <td>0</td>\n",
       "      <td>0.3</td>\n",
       "      <td>...</td>\n",
       "      <td>0</td>\n",
       "      <td>0</td>\n",
       "      <td>0</td>\n",
       "      <td>2</td>\n",
       "      <td>0</td>\n",
       "      <td>0</td>\n",
       "      <td>0</td>\n",
       "      <td>-33.80</td>\n",
       "      <td>293</td>\n",
       "      <td>345</td>\n",
       "    </tr>\n",
       "  </tbody>\n",
       "</table>\n",
       "<p>5 rows × 23 columns</p>\n",
       "</div>"
      ],
      "text/plain": [
       "            formula   Mn  Co  Cu  Ga  Ge  Nb  Ni  Si   Sn  ...  B  Fe  Ag  \\\n",
       "0  Mn3.1Zn0.4Sn0.5N  3.1   0   0   0   0   0   0   0  0.5  ...  0   0   0   \n",
       "1  Mn3.1Zn0.5Sn0.4N  3.1   0   0   0   0   0   0   0  0.4  ...  0   0   0   \n",
       "2  Mn3.1Zn0.6Sn0.3N  3.1   0   0   0   0   0   0   0  0.3  ...  0   0   0   \n",
       "3  Mn3.2Zn0.4Sn0.4N  3.2   0   0   0   0   0   0   0  0.4  ...  0   0   0   \n",
       "4  Mn3.2Zn0.5Sn0.3N  3.2   0   0   0   0   0   0   0  0.3  ...  0   0   0   \n",
       "\n",
       "   element_B  Sb  Cr  Re  alpha   t1   t2  \n",
       "0          2   0   0   0  -7.93  391  439  \n",
       "1          2   0   0   0 -25.30  313  371  \n",
       "2          2   0   0   0 -29.70  330  381  \n",
       "3          2   0   0   0  -9.91  357  413  \n",
       "4          2   0   0   0 -33.80  293  345  \n",
       "\n",
       "[5 rows x 23 columns]"
      ]
     },
     "execution_count": 4,
     "metadata": {},
     "output_type": "execute_result"
    }
   ],
   "source": [
    "data_truth.head()"
   ]
  },
  {
   "cell_type": "code",
   "execution_count": 5,
   "metadata": {},
   "outputs": [
    {
     "name": "stdout",
     "output_type": "stream",
     "text": [
      "False\n"
     ]
    }
   ],
   "source": [
    "data_truth = data_truth.fillna(0)\n",
    "print(data_truth.isnull().any().any())\n",
    "data_truth = data_truth[['Mn', 'Co', 'Cu', 'Ga', 'Ge', 'Nb', 'Ni', 'Si', 'Sn', 'Zn',\n",
    "       'N', 'C', 'B', 'Fe', 'Ag', 'element_B','Sb', 'Cr', 'Re','alpha','t1',\n",
    "       't2']]"
   ]
  },
  {
   "cell_type": "markdown",
   "metadata": {},
   "source": [
    "这里选着不同的初始数据。选取理由是调参"
   ]
  },
  {
   "cell_type": "code",
   "execution_count": 78,
   "metadata": {},
   "outputs": [
    {
     "data": {
      "text/plain": [
       "(2, 22)"
      ]
     },
     "execution_count": 78,
     "metadata": {},
     "output_type": "execute_result"
    }
   ],
   "source": [
    "data_truth_val = data_truth.iloc[[1,2]]\n",
    "data_truth_val.shape"
   ]
  },
  {
   "cell_type": "code",
   "execution_count": 8,
   "metadata": {},
   "outputs": [
    {
     "data": {
      "text/plain": [
       "(4, 22)"
      ]
     },
     "execution_count": 8,
     "metadata": {},
     "output_type": "execute_result"
    }
   ],
   "source": [
    "data_truth_train = data_truth.iloc[[0,3,4,5]]\n",
    "data_truth_train.shape"
   ]
  },
  {
   "cell_type": "code",
   "execution_count": 9,
   "metadata": {},
   "outputs": [
    {
     "data": {
      "text/html": [
       "<div>\n",
       "<style scoped>\n",
       "    .dataframe tbody tr th:only-of-type {\n",
       "        vertical-align: middle;\n",
       "    }\n",
       "\n",
       "    .dataframe tbody tr th {\n",
       "        vertical-align: top;\n",
       "    }\n",
       "\n",
       "    .dataframe thead th {\n",
       "        text-align: right;\n",
       "    }\n",
       "</style>\n",
       "<table border=\"1\" class=\"dataframe\">\n",
       "  <thead>\n",
       "    <tr style=\"text-align: right;\">\n",
       "      <th></th>\n",
       "      <th>Mn</th>\n",
       "      <th>Co</th>\n",
       "      <th>Cu</th>\n",
       "      <th>Ga</th>\n",
       "      <th>Ge</th>\n",
       "      <th>Nb</th>\n",
       "      <th>Ni</th>\n",
       "      <th>Si</th>\n",
       "      <th>Sn</th>\n",
       "      <th>Zn</th>\n",
       "      <th>...</th>\n",
       "      <th>B</th>\n",
       "      <th>Fe</th>\n",
       "      <th>Ag</th>\n",
       "      <th>element_B</th>\n",
       "      <th>Sb</th>\n",
       "      <th>Cr</th>\n",
       "      <th>Re</th>\n",
       "      <th>alpha</th>\n",
       "      <th>t1</th>\n",
       "      <th>t2</th>\n",
       "    </tr>\n",
       "  </thead>\n",
       "  <tbody>\n",
       "    <tr>\n",
       "      <th>0</th>\n",
       "      <td>3.1</td>\n",
       "      <td>0</td>\n",
       "      <td>0</td>\n",
       "      <td>0</td>\n",
       "      <td>0</td>\n",
       "      <td>0</td>\n",
       "      <td>0</td>\n",
       "      <td>0</td>\n",
       "      <td>0.5</td>\n",
       "      <td>0.4</td>\n",
       "      <td>...</td>\n",
       "      <td>0</td>\n",
       "      <td>0</td>\n",
       "      <td>0</td>\n",
       "      <td>2</td>\n",
       "      <td>0</td>\n",
       "      <td>0</td>\n",
       "      <td>0</td>\n",
       "      <td>-7.93</td>\n",
       "      <td>391</td>\n",
       "      <td>439</td>\n",
       "    </tr>\n",
       "    <tr>\n",
       "      <th>1</th>\n",
       "      <td>3.1</td>\n",
       "      <td>0</td>\n",
       "      <td>0</td>\n",
       "      <td>0</td>\n",
       "      <td>0</td>\n",
       "      <td>0</td>\n",
       "      <td>0</td>\n",
       "      <td>0</td>\n",
       "      <td>0.4</td>\n",
       "      <td>0.5</td>\n",
       "      <td>...</td>\n",
       "      <td>0</td>\n",
       "      <td>0</td>\n",
       "      <td>0</td>\n",
       "      <td>2</td>\n",
       "      <td>0</td>\n",
       "      <td>0</td>\n",
       "      <td>0</td>\n",
       "      <td>-25.30</td>\n",
       "      <td>313</td>\n",
       "      <td>371</td>\n",
       "    </tr>\n",
       "    <tr>\n",
       "      <th>2</th>\n",
       "      <td>3.1</td>\n",
       "      <td>0</td>\n",
       "      <td>0</td>\n",
       "      <td>0</td>\n",
       "      <td>0</td>\n",
       "      <td>0</td>\n",
       "      <td>0</td>\n",
       "      <td>0</td>\n",
       "      <td>0.3</td>\n",
       "      <td>0.6</td>\n",
       "      <td>...</td>\n",
       "      <td>0</td>\n",
       "      <td>0</td>\n",
       "      <td>0</td>\n",
       "      <td>2</td>\n",
       "      <td>0</td>\n",
       "      <td>0</td>\n",
       "      <td>0</td>\n",
       "      <td>-29.70</td>\n",
       "      <td>330</td>\n",
       "      <td>381</td>\n",
       "    </tr>\n",
       "    <tr>\n",
       "      <th>3</th>\n",
       "      <td>3.2</td>\n",
       "      <td>0</td>\n",
       "      <td>0</td>\n",
       "      <td>0</td>\n",
       "      <td>0</td>\n",
       "      <td>0</td>\n",
       "      <td>0</td>\n",
       "      <td>0</td>\n",
       "      <td>0.4</td>\n",
       "      <td>0.4</td>\n",
       "      <td>...</td>\n",
       "      <td>0</td>\n",
       "      <td>0</td>\n",
       "      <td>0</td>\n",
       "      <td>2</td>\n",
       "      <td>0</td>\n",
       "      <td>0</td>\n",
       "      <td>0</td>\n",
       "      <td>-9.91</td>\n",
       "      <td>357</td>\n",
       "      <td>413</td>\n",
       "    </tr>\n",
       "    <tr>\n",
       "      <th>4</th>\n",
       "      <td>3.2</td>\n",
       "      <td>0</td>\n",
       "      <td>0</td>\n",
       "      <td>0</td>\n",
       "      <td>0</td>\n",
       "      <td>0</td>\n",
       "      <td>0</td>\n",
       "      <td>0</td>\n",
       "      <td>0.3</td>\n",
       "      <td>0.5</td>\n",
       "      <td>...</td>\n",
       "      <td>0</td>\n",
       "      <td>0</td>\n",
       "      <td>0</td>\n",
       "      <td>2</td>\n",
       "      <td>0</td>\n",
       "      <td>0</td>\n",
       "      <td>0</td>\n",
       "      <td>-33.80</td>\n",
       "      <td>293</td>\n",
       "      <td>345</td>\n",
       "    </tr>\n",
       "  </tbody>\n",
       "</table>\n",
       "<p>5 rows × 22 columns</p>\n",
       "</div>"
      ],
      "text/plain": [
       "    Mn  Co  Cu  Ga  Ge  Nb  Ni  Si   Sn   Zn  ...  B  Fe  Ag  element_B  Sb  \\\n",
       "0  3.1   0   0   0   0   0   0   0  0.5  0.4  ...  0   0   0          2   0   \n",
       "1  3.1   0   0   0   0   0   0   0  0.4  0.5  ...  0   0   0          2   0   \n",
       "2  3.1   0   0   0   0   0   0   0  0.3  0.6  ...  0   0   0          2   0   \n",
       "3  3.2   0   0   0   0   0   0   0  0.4  0.4  ...  0   0   0          2   0   \n",
       "4  3.2   0   0   0   0   0   0   0  0.3  0.5  ...  0   0   0          2   0   \n",
       "\n",
       "   Cr  Re  alpha   t1   t2  \n",
       "0   0   0  -7.93  391  439  \n",
       "1   0   0 -25.30  313  371  \n",
       "2   0   0 -29.70  330  381  \n",
       "3   0   0  -9.91  357  413  \n",
       "4   0   0 -33.80  293  345  \n",
       "\n",
       "[5 rows x 22 columns]"
      ]
     },
     "execution_count": 9,
     "metadata": {},
     "output_type": "execute_result"
    }
   ],
   "source": [
    "data_truth.head()"
   ]
  },
  {
   "cell_type": "markdown",
   "metadata": {},
   "source": [
    "### data pool U"
   ]
  },
  {
   "cell_type": "code",
   "execution_count": 11,
   "metadata": {},
   "outputs": [],
   "source": [
    "data_ = pd.read_excel('data/external data pool U.xlsx')"
   ]
  },
  {
   "cell_type": "code",
   "execution_count": 12,
   "metadata": {},
   "outputs": [
    {
     "data": {
      "text/html": [
       "<div>\n",
       "<style scoped>\n",
       "    .dataframe tbody tr th:only-of-type {\n",
       "        vertical-align: middle;\n",
       "    }\n",
       "\n",
       "    .dataframe tbody tr th {\n",
       "        vertical-align: top;\n",
       "    }\n",
       "\n",
       "    .dataframe thead th {\n",
       "        text-align: right;\n",
       "    }\n",
       "</style>\n",
       "<table border=\"1\" class=\"dataframe\">\n",
       "  <thead>\n",
       "    <tr style=\"text-align: right;\">\n",
       "      <th></th>\n",
       "      <th>formula</th>\n",
       "      <th>Mn</th>\n",
       "      <th>Co</th>\n",
       "      <th>Cu</th>\n",
       "      <th>Ga</th>\n",
       "      <th>Ge</th>\n",
       "      <th>Nb</th>\n",
       "      <th>Ni</th>\n",
       "      <th>Si</th>\n",
       "      <th>Sn</th>\n",
       "      <th>...</th>\n",
       "      <th>element_C</th>\n",
       "      <th>t1</th>\n",
       "      <th>t2</th>\n",
       "      <th>deltaT</th>\n",
       "      <th>alpha</th>\n",
       "      <th>T1_label</th>\n",
       "      <th>alpha_label</th>\n",
       "      <th>Sb</th>\n",
       "      <th>Cr</th>\n",
       "      <th>Re</th>\n",
       "    </tr>\n",
       "  </thead>\n",
       "  <tbody>\n",
       "    <tr>\n",
       "      <th>0</th>\n",
       "      <td>Mn3Cu0.53Ge0.47N</td>\n",
       "      <td>3.00</td>\n",
       "      <td>0</td>\n",
       "      <td>0.53</td>\n",
       "      <td>0.0</td>\n",
       "      <td>0.47</td>\n",
       "      <td>0.0</td>\n",
       "      <td>0.0</td>\n",
       "      <td>0.0</td>\n",
       "      <td>0.0</td>\n",
       "      <td>...</td>\n",
       "      <td>1</td>\n",
       "      <td>267.0</td>\n",
       "      <td>342.00</td>\n",
       "      <td>75.0</td>\n",
       "      <td>-16.0</td>\n",
       "      <td>1</td>\n",
       "      <td>0</td>\n",
       "      <td>NaN</td>\n",
       "      <td>NaN</td>\n",
       "      <td>NaN</td>\n",
       "    </tr>\n",
       "    <tr>\n",
       "      <th>1</th>\n",
       "      <td>Mn3Cu0.5Ge0.5N</td>\n",
       "      <td>3.00</td>\n",
       "      <td>0</td>\n",
       "      <td>0.50</td>\n",
       "      <td>0.0</td>\n",
       "      <td>0.50</td>\n",
       "      <td>0.0</td>\n",
       "      <td>0.0</td>\n",
       "      <td>0.0</td>\n",
       "      <td>0.0</td>\n",
       "      <td>...</td>\n",
       "      <td>1</td>\n",
       "      <td>280.0</td>\n",
       "      <td>365.00</td>\n",
       "      <td>85.0</td>\n",
       "      <td>-12.0</td>\n",
       "      <td>2</td>\n",
       "      <td>0</td>\n",
       "      <td>NaN</td>\n",
       "      <td>NaN</td>\n",
       "      <td>NaN</td>\n",
       "    </tr>\n",
       "    <tr>\n",
       "      <th>2</th>\n",
       "      <td>Mn3Ga0.7Ge0.3N0.88C0.12</td>\n",
       "      <td>3.00</td>\n",
       "      <td>0</td>\n",
       "      <td>0.00</td>\n",
       "      <td>0.7</td>\n",
       "      <td>0.30</td>\n",
       "      <td>0.0</td>\n",
       "      <td>0.0</td>\n",
       "      <td>0.0</td>\n",
       "      <td>0.0</td>\n",
       "      <td>...</td>\n",
       "      <td>2</td>\n",
       "      <td>197.0</td>\n",
       "      <td>319.00</td>\n",
       "      <td>122.0</td>\n",
       "      <td>-18.0</td>\n",
       "      <td>0</td>\n",
       "      <td>0</td>\n",
       "      <td>NaN</td>\n",
       "      <td>NaN</td>\n",
       "      <td>NaN</td>\n",
       "    </tr>\n",
       "    <tr>\n",
       "      <th>3</th>\n",
       "      <td>Mn3Ga0.5Ge0.4Mn0.1N</td>\n",
       "      <td>3.10</td>\n",
       "      <td>0</td>\n",
       "      <td>0.00</td>\n",
       "      <td>0.5</td>\n",
       "      <td>0.40</td>\n",
       "      <td>0.0</td>\n",
       "      <td>0.0</td>\n",
       "      <td>0.0</td>\n",
       "      <td>0.0</td>\n",
       "      <td>...</td>\n",
       "      <td>1</td>\n",
       "      <td>327.9</td>\n",
       "      <td>392.65</td>\n",
       "      <td>65.5</td>\n",
       "      <td>-3.0</td>\n",
       "      <td>3</td>\n",
       "      <td>0</td>\n",
       "      <td>NaN</td>\n",
       "      <td>NaN</td>\n",
       "      <td>NaN</td>\n",
       "    </tr>\n",
       "    <tr>\n",
       "      <th>4</th>\n",
       "      <td>(Mn0.96Fe0.04)3Zn0.5Ge0.5N</td>\n",
       "      <td>2.88</td>\n",
       "      <td>0</td>\n",
       "      <td>0.00</td>\n",
       "      <td>0.0</td>\n",
       "      <td>0.50</td>\n",
       "      <td>0.0</td>\n",
       "      <td>0.0</td>\n",
       "      <td>0.0</td>\n",
       "      <td>0.0</td>\n",
       "      <td>...</td>\n",
       "      <td>1</td>\n",
       "      <td>316.0</td>\n",
       "      <td>386.00</td>\n",
       "      <td>70.0</td>\n",
       "      <td>-25.0</td>\n",
       "      <td>2</td>\n",
       "      <td>1</td>\n",
       "      <td>NaN</td>\n",
       "      <td>NaN</td>\n",
       "      <td>NaN</td>\n",
       "    </tr>\n",
       "  </tbody>\n",
       "</table>\n",
       "<p>5 rows × 28 columns</p>\n",
       "</div>"
      ],
      "text/plain": [
       "                      formula    Mn  Co    Cu   Ga    Ge   Nb   Ni   Si   Sn  \\\n",
       "0            Mn3Cu0.53Ge0.47N  3.00   0  0.53  0.0  0.47  0.0  0.0  0.0  0.0   \n",
       "1              Mn3Cu0.5Ge0.5N  3.00   0  0.50  0.0  0.50  0.0  0.0  0.0  0.0   \n",
       "2     Mn3Ga0.7Ge0.3N0.88C0.12  3.00   0  0.00  0.7  0.30  0.0  0.0  0.0  0.0   \n",
       "3         Mn3Ga0.5Ge0.4Mn0.1N  3.10   0  0.00  0.5  0.40  0.0  0.0  0.0  0.0   \n",
       "4  (Mn0.96Fe0.04)3Zn0.5Ge0.5N  2.88   0  0.00  0.0  0.50  0.0  0.0  0.0  0.0   \n",
       "\n",
       "   ...  element_C     t1      t2  deltaT  alpha  T1_label  alpha_label  Sb  \\\n",
       "0  ...          1  267.0  342.00    75.0  -16.0         1            0 NaN   \n",
       "1  ...          1  280.0  365.00    85.0  -12.0         2            0 NaN   \n",
       "2  ...          2  197.0  319.00   122.0  -18.0         0            0 NaN   \n",
       "3  ...          1  327.9  392.65    65.5   -3.0         3            0 NaN   \n",
       "4  ...          1  316.0  386.00    70.0  -25.0         2            1 NaN   \n",
       "\n",
       "   Cr  Re  \n",
       "0 NaN NaN  \n",
       "1 NaN NaN  \n",
       "2 NaN NaN  \n",
       "3 NaN NaN  \n",
       "4 NaN NaN  \n",
       "\n",
       "[5 rows x 28 columns]"
      ]
     },
     "execution_count": 12,
     "metadata": {},
     "output_type": "execute_result"
    }
   ],
   "source": [
    "data_.head()"
   ]
  },
  {
   "cell_type": "code",
   "execution_count": 13,
   "metadata": {},
   "outputs": [
    {
     "data": {
      "text/plain": [
       "(123, 28)"
      ]
     },
     "execution_count": 13,
     "metadata": {},
     "output_type": "execute_result"
    }
   ],
   "source": [
    "data_.shape"
   ]
  },
  {
   "cell_type": "code",
   "execution_count": 14,
   "metadata": {},
   "outputs": [
    {
     "name": "stdout",
     "output_type": "stream",
     "text": [
      "False\n"
     ]
    }
   ],
   "source": [
    "data_ = data_.fillna(0)\n",
    "print(data_.isnull().any().any())\n",
    "data_ = data_[['Mn', 'Co', 'Cu', 'Ga', 'Ge', 'Nb', 'Ni', 'Si', 'Sn', 'Zn',\n",
    "       'N', 'C', 'B', 'Fe', 'Ag', 'element_B','Sb', 'Cr', 'Re','alpha','t1',\n",
    "       't2']]"
   ]
  },
  {
   "cell_type": "markdown",
   "metadata": {},
   "source": [
    "## Feature engineering"
   ]
  },
  {
   "cell_type": "code",
   "execution_count": 15,
   "metadata": {},
   "outputs": [],
   "source": [
    "target1, target2, target3 = data_['alpha'],data_['t1'],data_['t2']\n",
    "x = data_[['Mn', 'Co', 'Cu', 'Ga', 'Ge', 'Nb', 'Ni', 'Si', 'Sn', 'Zn',\n",
    "       'N', 'C', 'B', 'Fe', 'Ag', 'element_B','Sb', 'Cr', 'Re']]"
   ]
  },
  {
   "cell_type": "code",
   "execution_count": 16,
   "metadata": {},
   "outputs": [],
   "source": [
    "# data = data.iloc[:,1:20]"
   ]
  },
  {
   "cell_type": "markdown",
   "metadata": {},
   "source": [
    "### Normalization for feature matrix"
   ]
  },
  {
   "cell_type": "code",
   "execution_count": 17,
   "metadata": {
    "scrolled": true
   },
   "outputs": [
    {
     "data": {
      "text/html": [
       "<div>\n",
       "<style scoped>\n",
       "    .dataframe tbody tr th:only-of-type {\n",
       "        vertical-align: middle;\n",
       "    }\n",
       "\n",
       "    .dataframe tbody tr th {\n",
       "        vertical-align: top;\n",
       "    }\n",
       "\n",
       "    .dataframe thead th {\n",
       "        text-align: right;\n",
       "    }\n",
       "</style>\n",
       "<table border=\"1\" class=\"dataframe\">\n",
       "  <thead>\n",
       "    <tr style=\"text-align: right;\">\n",
       "      <th></th>\n",
       "      <th>0</th>\n",
       "      <th>1</th>\n",
       "      <th>2</th>\n",
       "      <th>3</th>\n",
       "      <th>4</th>\n",
       "      <th>5</th>\n",
       "      <th>6</th>\n",
       "      <th>7</th>\n",
       "      <th>8</th>\n",
       "      <th>9</th>\n",
       "      <th>10</th>\n",
       "      <th>11</th>\n",
       "      <th>12</th>\n",
       "      <th>13</th>\n",
       "      <th>14</th>\n",
       "      <th>15</th>\n",
       "      <th>16</th>\n",
       "      <th>17</th>\n",
       "      <th>18</th>\n",
       "    </tr>\n",
       "  </thead>\n",
       "  <tbody>\n",
       "    <tr>\n",
       "      <th>0</th>\n",
       "      <td>-0.140439</td>\n",
       "      <td>0.0</td>\n",
       "      <td>0.619414</td>\n",
       "      <td>-0.450365</td>\n",
       "      <td>1.713440</td>\n",
       "      <td>-0.225509</td>\n",
       "      <td>-0.206202</td>\n",
       "      <td>-0.337151</td>\n",
       "      <td>-0.607045</td>\n",
       "      <td>-0.423725</td>\n",
       "      <td>0.388960</td>\n",
       "      <td>-0.383765</td>\n",
       "      <td>-0.158114</td>\n",
       "      <td>-0.090536</td>\n",
       "      <td>-0.336294</td>\n",
       "      <td>-0.500521</td>\n",
       "      <td>-0.258841</td>\n",
       "      <td>-0.146124</td>\n",
       "      <td>-0.139058</td>\n",
       "    </tr>\n",
       "    <tr>\n",
       "      <th>1</th>\n",
       "      <td>-0.140439</td>\n",
       "      <td>0.0</td>\n",
       "      <td>0.521360</td>\n",
       "      <td>-0.450365</td>\n",
       "      <td>1.876351</td>\n",
       "      <td>-0.225509</td>\n",
       "      <td>-0.206202</td>\n",
       "      <td>-0.337151</td>\n",
       "      <td>-0.607045</td>\n",
       "      <td>-0.423725</td>\n",
       "      <td>0.388960</td>\n",
       "      <td>-0.383765</td>\n",
       "      <td>-0.158114</td>\n",
       "      <td>-0.090536</td>\n",
       "      <td>-0.336294</td>\n",
       "      <td>-0.500521</td>\n",
       "      <td>-0.258841</td>\n",
       "      <td>-0.146124</td>\n",
       "      <td>-0.139058</td>\n",
       "    </tr>\n",
       "    <tr>\n",
       "      <th>2</th>\n",
       "      <td>-0.140439</td>\n",
       "      <td>0.0</td>\n",
       "      <td>-1.112872</td>\n",
       "      <td>2.329305</td>\n",
       "      <td>0.790275</td>\n",
       "      <td>-0.225509</td>\n",
       "      <td>-0.206202</td>\n",
       "      <td>-0.337151</td>\n",
       "      <td>-0.607045</td>\n",
       "      <td>-0.423725</td>\n",
       "      <td>-1.862432</td>\n",
       "      <td>1.976389</td>\n",
       "      <td>-0.158114</td>\n",
       "      <td>-0.090536</td>\n",
       "      <td>-0.336294</td>\n",
       "      <td>-0.500521</td>\n",
       "      <td>-0.258841</td>\n",
       "      <td>-0.146124</td>\n",
       "      <td>-0.139058</td>\n",
       "    </tr>\n",
       "    <tr>\n",
       "      <th>3</th>\n",
       "      <td>0.846645</td>\n",
       "      <td>0.0</td>\n",
       "      <td>-1.112872</td>\n",
       "      <td>1.535113</td>\n",
       "      <td>1.333313</td>\n",
       "      <td>-0.225509</td>\n",
       "      <td>-0.206202</td>\n",
       "      <td>-0.337151</td>\n",
       "      <td>-0.607045</td>\n",
       "      <td>-0.423725</td>\n",
       "      <td>0.388960</td>\n",
       "      <td>-0.383765</td>\n",
       "      <td>-0.158114</td>\n",
       "      <td>-0.090536</td>\n",
       "      <td>-0.336294</td>\n",
       "      <td>1.485417</td>\n",
       "      <td>-0.258841</td>\n",
       "      <td>-0.146124</td>\n",
       "      <td>-0.139058</td>\n",
       "    </tr>\n",
       "    <tr>\n",
       "      <th>4</th>\n",
       "      <td>-1.324939</td>\n",
       "      <td>0.0</td>\n",
       "      <td>-1.112872</td>\n",
       "      <td>-0.450365</td>\n",
       "      <td>1.876351</td>\n",
       "      <td>-0.225509</td>\n",
       "      <td>-0.206202</td>\n",
       "      <td>-0.337151</td>\n",
       "      <td>-0.607045</td>\n",
       "      <td>2.249001</td>\n",
       "      <td>0.388960</td>\n",
       "      <td>-0.383765</td>\n",
       "      <td>-0.158114</td>\n",
       "      <td>11.045361</td>\n",
       "      <td>-0.336294</td>\n",
       "      <td>-0.500521</td>\n",
       "      <td>-0.258841</td>\n",
       "      <td>-0.146124</td>\n",
       "      <td>-0.139058</td>\n",
       "    </tr>\n",
       "  </tbody>\n",
       "</table>\n",
       "</div>"
      ],
      "text/plain": [
       "         0    1         2         3         4         5         6         7   \\\n",
       "0 -0.140439  0.0  0.619414 -0.450365  1.713440 -0.225509 -0.206202 -0.337151   \n",
       "1 -0.140439  0.0  0.521360 -0.450365  1.876351 -0.225509 -0.206202 -0.337151   \n",
       "2 -0.140439  0.0 -1.112872  2.329305  0.790275 -0.225509 -0.206202 -0.337151   \n",
       "3  0.846645  0.0 -1.112872  1.535113  1.333313 -0.225509 -0.206202 -0.337151   \n",
       "4 -1.324939  0.0 -1.112872 -0.450365  1.876351 -0.225509 -0.206202 -0.337151   \n",
       "\n",
       "         8         9         10        11        12         13        14  \\\n",
       "0 -0.607045 -0.423725  0.388960 -0.383765 -0.158114  -0.090536 -0.336294   \n",
       "1 -0.607045 -0.423725  0.388960 -0.383765 -0.158114  -0.090536 -0.336294   \n",
       "2 -0.607045 -0.423725 -1.862432  1.976389 -0.158114  -0.090536 -0.336294   \n",
       "3 -0.607045 -0.423725  0.388960 -0.383765 -0.158114  -0.090536 -0.336294   \n",
       "4 -0.607045  2.249001  0.388960 -0.383765 -0.158114  11.045361 -0.336294   \n",
       "\n",
       "         15        16        17        18  \n",
       "0 -0.500521 -0.258841 -0.146124 -0.139058  \n",
       "1 -0.500521 -0.258841 -0.146124 -0.139058  \n",
       "2 -0.500521 -0.258841 -0.146124 -0.139058  \n",
       "3  1.485417 -0.258841 -0.146124 -0.139058  \n",
       "4 -0.500521 -0.258841 -0.146124 -0.139058  "
      ]
     },
     "execution_count": 17,
     "metadata": {},
     "output_type": "execute_result"
    }
   ],
   "source": [
    "from sklearn import preprocessing\n",
    "standar = preprocessing.StandardScaler()\n",
    "x = pd.DataFrame(standar.fit_transform(x))\n",
    "x.head()"
   ]
  },
  {
   "cell_type": "markdown",
   "metadata": {},
   "source": [
    "### Verify the normal distribution of target"
   ]
  },
  {
   "cell_type": "code",
   "execution_count": 18,
   "metadata": {},
   "outputs": [],
   "source": [
    "def max_min(column):\n",
    "    print(column.min(),column.max())\n",
    "    return (column - column.min()) / (column.max() - column.min())"
   ]
  },
  {
   "cell_type": "code",
   "execution_count": 19,
   "metadata": {
    "scrolled": false
   },
   "outputs": [
    {
     "name": "stdout",
     "output_type": "stream",
     "text": [
      "0      342.00\n",
      "1      365.00\n",
      "2      319.00\n",
      "3      392.65\n",
      "4      386.00\n",
      "        ...  \n",
      "118    375.00\n",
      "119    344.12\n",
      "120    418.63\n",
      "121    337.25\n",
      "122    325.00\n",
      "Name: t2, Length: 123, dtype: float64\n"
     ]
    },
    {
     "data": {
      "image/png": "[encoded data removed]",
      "text/plain": [
       "<Figure size 864x288 with 2 Axes>"
      ]
     },
     "metadata": {
      "needs_background": "light"
     },
     "output_type": "display_data"
    }
   ],
   "source": [
    "# target1 = np.log(target1)\n",
    "# target1 = target1 ** 0.5\n",
    "# target1 = target1 **2\n",
    "print(target3)\n",
    "plt.figure(figsize=(12,4))\n",
    "plt.subplot(1,2,1)\n",
    "sns.distplot(target3.dropna(),fit=stats.norm,);\n",
    "plt.ylabel(\"Frequency / Group distance\")\n",
    "plt.xlabel('The ending temperature')\n",
    "plt.subplot(1,2,2)\n",
    "_ = stats.probplot(target3.dropna(),plot=plt)"
   ]
  },
  {
   "cell_type": "code",
   "execution_count": 20,
   "metadata": {},
   "outputs": [
    {
     "data": {
      "image/png": "[encoded data removed]",
      "text/plain": [
       "<Figure size 864x288 with 2 Axes>"
      ]
     },
     "metadata": {
      "needs_background": "light"
     },
     "output_type": "display_data"
    }
   ],
   "source": [
    "plt.figure(figsize=(12,4))\n",
    "plt.subplot(1,2,1)\n",
    "sns.distplot(target2.dropna(),fit=stats.norm,);\n",
    "plt.ylabel(\"Frequency / Group distance\")\n",
    "plt.xlabel('The starting temperature')\n",
    "plt.subplot(1,2,2)\n",
    "_ = stats.probplot(target2.dropna(),plot=plt)"
   ]
  },
  {
   "cell_type": "code",
   "execution_count": 21,
   "metadata": {},
   "outputs": [
    {
     "data": {
      "image/png": "[encoded data removed]",
      "text/plain": [
       "<Figure size 864x288 with 2 Axes>"
      ]
     },
     "metadata": {
      "needs_background": "light"
     },
     "output_type": "display_data"
    }
   ],
   "source": [
    "plt.figure(figsize=(12,4))\n",
    "plt.subplot(1,2,1)\n",
    "sns.distplot(target1.dropna(),fit=stats.norm,);\n",
    "plt.ylabel(\"Frequency / Group distance\")\n",
    "plt.xlabel('The negative thermal expansion coefficient')\n",
    "plt.subplot(1,2,2)\n",
    "_ = stats.probplot(target1.dropna(),plot=plt)"
   ]
  },
  {
   "cell_type": "markdown",
   "metadata": {},
   "source": [
    "### kfold function"
   ]
  },
  {
   "cell_type": "code",
   "execution_count": 22,
   "metadata": {},
   "outputs": [],
   "source": [
    "def mean_relative_error(y_true,y_pred):\n",
    "    relative_error = np.average(abs(y_true - y_pred) / abs(y_true), axis=0)\n",
    "    return relative_error\n",
    "\n",
    "def kfold(model,X,y):\n",
    "   # 5折交叉验证\n",
    "    Folds=3\n",
    "    kf = KFold(n_splits = Folds,shuffle=True, random_state = 300)\n",
    "    # 记录训练和预测MSE\n",
    "    # 记录训练和预测r2\n",
    "    train_r2_ = []\n",
    "    test_r2_ = []\n",
    "\n",
    "    # 线下训练预测\n",
    "    for (train, test) in (kf.split(X,y)):\n",
    "\n",
    "       # 切分训练集和预测集\n",
    "        X_train, X_test = X.iloc[train], X.iloc[test]\n",
    "        y_train, y_test = y.iloc[train], y.iloc[test]\n",
    "\n",
    "        # 训练模型\n",
    "        model.fit(X_train,y_train)\n",
    "\n",
    "        # 训练集预测 测试集预测\n",
    "        y_train_KFold_predict = model.predict(X_train)\n",
    "        y_test_KFold_predict = model.predict(X_test) \n",
    "\n",
    "        #相对误差\n",
    "        # train_r2 = mean_relative_error(y_train,y_train_KFold_predict)\n",
    "        # test_r2 = mean_relative_error(y_test,y_test_KFold_predict)\n",
    "        \n",
    "        #R2\n",
    "        train_r2 = r2_score(y_train,y_train_KFold_predict)\n",
    "        test_r2 = r2_score(y_test,y_test_KFold_predict)\n",
    "\n",
    "        train_r2_.append(train_r2)\n",
    "        test_r2_.append(test_r2)\n",
    "\n",
    "    mean_r2_train = np.mean(train_r2_)\n",
    "    mean_r2_test = np.mean(test_r2_)\n",
    "    # print('------', 'train_r2',1- mean_r2_train, '------')\n",
    "    # print('------', 'test_r2',1- mean_r2_test, '------')\n",
    "    \n",
    "    return(mean_r2_train,mean_r2_test)"
   ]
  },
  {
   "cell_type": "code",
   "execution_count": 66,
   "metadata": {},
   "outputs": [],
   "source": [
    "def kfold_relative_error(model,X,y):\n",
    "   # 5折交叉验证\n",
    "    Folds = 3\n",
    "    kf = KFold(n_splits = Folds,shuffle=True, random_state = 300)\n",
    "    # 记录训练和预测MSE\n",
    "    # 记录训练和预测r2\n",
    "    train_r2_ = []\n",
    "    test_r2_ = []\n",
    "\n",
    "    # 线下训练预测\n",
    "    for (train, test) in (kf.split(X,y)):\n",
    "\n",
    "       # 切分训练集和预测集\n",
    "        X_train, X_test = X.iloc[train], X.iloc[test]\n",
    "        y_train, y_test = y.iloc[train], y.iloc[test]\n",
    "\n",
    "        # 训练模型\n",
    "        model.fit(X_train,y_train)\n",
    "\n",
    "        # 训练集预测 测试集预测\n",
    "        y_train_KFold_predict = model.predict(X_train)\n",
    "        y_test_KFold_predict = model.predict(X_test) \n",
    "\n",
    "        #相对误差\n",
    "#         train_r2 =  mape(y_train,y_train_KFold_predict)\n",
    "#         test_r2 =  mape(y_test,y_test_KFold_predict)\n",
    "\n",
    "        train_r2 = 1- mean_relative_error(y_train,y_train_KFold_predict)\n",
    "        test_r2 = 1 - mean_relative_error(y_test,y_test_KFold_predict)\n",
    "        \n",
    "        #R2\n",
    "#         train_r2 = r2_score(y_train,y_train_KFold_predict)\n",
    "#         test_r2 = r2_score(y_test,y_test_KFold_predict)\n",
    "        \n",
    "        #mse\n",
    "#         train_r2 = abs(y_train-y_train_KFold_predict).sum() / len(y_train)\n",
    "#         test_r2 = abs(y_test-y_test_KFold_predict).sum() / len(y_train)\n",
    "\n",
    "        train_r2_.append(train_r2)\n",
    "        test_r2_.append(test_r2)\n",
    "\n",
    "    mean_r2_train = np.mean(train_r2_)\n",
    "    mean_r2_test = np.mean(test_r2_)\n",
    "    # print('------', 'train_r2',1- mean_r2_train, '------')\n",
    "    # print('------', 'test_r2',1- mean_r2_test, '------')\n",
    "    \n",
    "    return(mean_r2_train,mean_r2_test)"
   ]
  },
  {
   "cell_type": "code",
   "execution_count": 24,
   "metadata": {},
   "outputs": [],
   "source": [
    "y = target3"
   ]
  },
  {
   "cell_type": "code",
   "execution_count": 25,
   "metadata": {},
   "outputs": [
    {
     "name": "stdout",
     "output_type": "stream",
     "text": [
      "svr score 0.8884933192698415 best_c 1931\n"
     ]
    }
   ],
   "source": [
    "# 用svr跑一下\n",
    "train_scores = []\n",
    "test_scores = []\n",
    "for i in range(1,2000,5):\n",
    "    clf = SVR(C=i)\n",
    "    train, test = kfold_relative_error(clf,x,y)\n",
    "    # train, test = kfold(clf,x1,y)\n",
    "    train_scores.append(train)\n",
    "    test_scores.append(test)\n",
    "score = np.max(test_scores)\n",
    "best_c = test_scores.index(score)*5+1\n",
    "print(\"svr score\",score,\"best_c\",best_c)"
   ]
  },
  {
   "cell_type": "code",
   "execution_count": 26,
   "metadata": {},
   "outputs": [
    {
     "name": "stdout",
     "output_type": "stream",
     "text": [
      "    Mn  Co  Cu  Ga  Ge  Nb  Ni  Si   Sn   Zn  N  C  B  Fe  Ag  element_B  Sb  \\\n",
      "4  3.2   0   0   0   0   0   0   0  0.3  0.5  1  0  0   0   0          2   0   \n",
      "5  3.2   0   0   0   0   0   0   0  0.2  0.6  1  0  0   0   0          2   0   \n",
      "\n",
      "   Cr  Re  \n",
      "4   0   0  \n",
      "5   0   0  \n",
      "[231.68348007 234.0029275 ]\n",
      "4    345\n",
      "5    309\n",
      "Name: t2, dtype: int64\n",
      "-27.49567063504568\n",
      "0.2855813267149276\n"
     ]
    }
   ],
   "source": [
    "clf = SVR(C=best_c)\n",
    "clf.fit(x,y)\n",
    "# x_val = pd.DataFrame(standar.fit_transform(data_truth_val[:19]))\n",
    "x_val = data_truth_val.iloc[:,:19]\n",
    "print(x_val)\n",
    "y_val_pre = clf.predict(x_val)\n",
    "y_val = data_truth_val.iloc[:,-1] \n",
    "print(y_val_pre)\n",
    "print(y_val)\n",
    "print(r2_score(y_val,y_val_pre))\n",
    "print((abs(y_val - y_val_pre) / y_val).sum() / len(y_val))"
   ]
  },
  {
   "cell_type": "code",
   "execution_count": 27,
   "metadata": {},
   "outputs": [
    {
     "name": "stdout",
     "output_type": "stream",
     "text": [
      "score 0.5959052903993538\n"
     ]
    }
   ],
   "source": [
    "# 用gbdt跑一下\n",
    "train_scores = []\n",
    "test_scores = []\n",
    "for i in range(1,1000,10):\n",
    "    clf = GradientBoostingRegressor(n_estimators=i)\n",
    "    train, test = kfold_relative_error(clf,x,y)\n",
    "    train_scores.append(train)\n",
    "    test_scores.append(test)\n",
    "print(\"score\",np.min(test_scores))"
   ]
  },
  {
   "cell_type": "code",
   "execution_count": 28,
   "metadata": {
    "scrolled": true
   },
   "outputs": [
    {
     "name": "stdout",
     "output_type": "stream",
     "text": [
      "test_scores 0.3006008018454076\n"
     ]
    }
   ],
   "source": [
    "train_scores = []\n",
    "test_scores = []\n",
    "for i in range(1,1000,10):\n",
    "    clf = XGBRegressor(max_depth=4,n_estimators=i,random_state=2021)\n",
    "    train, test = kfold_relative_error(clf,x,y)\n",
    "    train_scores.append(train)\n",
    "    test_scores.append(test)\n",
    "print(\"test_scores\",np.min(test_scores))"
   ]
  },
  {
   "cell_type": "markdown",
   "metadata": {},
   "source": [
    "### score function"
   ]
  },
  {
   "cell_type": "markdown",
   "metadata": {},
   "source": [
    "构建筛选集，按每个epoch为30条，加入到原始的数据中，接着计算得分，然后筛选是不是需要的数据。按主动学习基于减小误差的查询，流程：\n",
    "* 1.选择一个损失函数用来评估错误率\n",
    "* 2.将未标注样本输入，如果r2连续下降就停止"
   ]
  },
  {
   "cell_type": "code",
   "execution_count": 29,
   "metadata": {},
   "outputs": [],
   "source": [
    "# x = pd.DataFrame(standar.fit_transform(data_truth.iloc[:,0:19]))\n",
    "# y = data_truth.iloc[:,19]\n",
    "# svr = SVR()\n",
    "# y_pre = svr.fit(x)\n",
    "# print(y_pre)"
   ]
  },
  {
   "cell_type": "code",
   "execution_count": 30,
   "metadata": {},
   "outputs": [],
   "source": [
    "def model_choose(model_name,x,y):\n",
    "    ## 可以写成多个模型的选择\n",
    "    for i in range(1,1000,1):\n",
    "        clf = SVR(C=i)\n",
    "        train, test = kfold_relative_error(clf,x,y)\n",
    "        # train, test = kfold(clf,x1,y)\n",
    "        train_scores.append(train)\n",
    "        test_scores.append(test)\n",
    "    \n",
    "    score = np.max(test_scores)\n",
    "    best_c = test_scores.index(score)\n",
    "    return score,best_c"
   ]
  },
  {
   "cell_type": "code",
   "execution_count": 31,
   "metadata": {},
   "outputs": [],
   "source": [
    "def scores(epoch):\n",
    "    x = epoch.iloc[:,0:19]\n",
    "    y = epoch.iloc[:,19]\n",
    "    standar = preprocessing.StandardScaler()\n",
    "    x1 = pd.DataFrame(standar.fit_transform(x))  # 对x做正则化,这里没有对y做任何处理\n",
    "    y = y/10\n",
    "    train_scores = []\n",
    "    test_scores = []\n",
    "    model_choose(SVR,x1,y)\n",
    "    for i in range(1,1000,1):\n",
    "        clf = SVR(C=i)\n",
    "        train, test = kfold_relative_error(clf,x1,y)\n",
    "        # train, test = kfold(clf,x1,y)\n",
    "        train_scores.append(train)\n",
    "        test_scores.append(test)\n",
    "    score = np.max(test_scores)\n",
    "    best_c = test_scores.index(score)\n",
    "    return score"
   ]
  },
  {
   "cell_type": "markdown",
   "metadata": {},
   "source": [
    "## ALDS"
   ]
  },
  {
   "cell_type": "markdown",
   "metadata": {},
   "source": [
    "### Building data pool U\n",
    "\n",
    "以data_truth为基准，遍历120条的数据，每次选着使得r2上升最大的数据放入数据集中"
   ]
  },
  {
   "cell_type": "code",
   "execution_count": 32,
   "metadata": {},
   "outputs": [],
   "source": [
    "def active_learning(epoch, data, n):\n",
    "    '''实现主动学习的思想，从数据池中拿入query，计算r2'''\n",
    "    test = []\n",
    "    index = []\n",
    "    for i in range(0,len(data),n):\n",
    "        data_ = data.iloc[i:i+n,]\n",
    "        epoch_test = pd.concat([epoch,data_],axis=0)\n",
    "        score = scores(epoch_test)\n",
    "        test.append(score)\n",
    "\n",
    "    #     if float(score) > 0.360:\n",
    "    #         epoch = epoch_test\n",
    "    # print(np.max(test))\n",
    "    # print(test.index(np.max(test)))\n",
    "    \n",
    "    best_score = np.max(test)\n",
    "    index = test.index(np.max(test))*n\n",
    "    \n",
    "    return best_score, index"
   ]
  },
  {
   "cell_type": "code",
   "execution_count": 33,
   "metadata": {},
   "outputs": [],
   "source": [
    "best_score_last = 0.0\n",
    "score_list = []    # 保存每次遍历的最好分数\n",
    "index_list = []    # 保存每次遍历的最好数据集\n",
    "\n",
    "def choose_data(epoch, data, n):\n",
    "    '''\n",
    "    输入：原本的数据集，数据池，窗口大小\n",
    "    输出：挑选后的数据，最好的成绩\n",
    "    先给数据池的每个窗口打分，选着最好的成绩，保存index和score\n",
    "    '''\n",
    "    global score_list\n",
    "    global best_score_last\n",
    "    global index_list\n",
    "    \n",
    "    print('|  选出数据池的index  |  数据池剩余   |   the score   |')\n",
    "    \n",
    "    i=0.0\n",
    "    data_all = copy.deepcopy(data)\n",
    "    \n",
    "    while(len(data)/n>=1):\n",
    "        ## 选出当前池里面分数最高的n列\n",
    "        test_scores = []\n",
    "        index = []\n",
    "        for i in range(0,len(data),n):\n",
    "            ## 因为是按序列取的，i的取值是0~len(data)，而现在是要取data.index里的值\n",
    "            idx = list(np.array(data.index))  #取出当前的index\n",
    "            idx = np.array(idx[i:i+n])        #按窗口依次取出n列数据\n",
    "            if len(idx) == n :\n",
    "                # print(idx)\n",
    "                data_ = data.loc[idx]\n",
    "                # print(data_)\n",
    "                epoch_test = pd.concat([epoch,data_],axis=0)\n",
    "                score = scores(epoch_test)\n",
    "                if np.isnan(score):\n",
    "                    test_scores.append(0)\n",
    "                else:\n",
    "                    test_scores.append(score)\n",
    "                index.append(idx)                 #保存这些列的数据\n",
    "        \n",
    "        best_score = np.max(test_scores)\n",
    "        # print(best_score)\n",
    "        index_max = index[test_scores.index(best_score)] \n",
    "        # print(index_max)\n",
    "\n",
    "\n",
    "        score_list.append(best_score)\n",
    "        index_list.append(np.array(index_max))\n",
    "\n",
    "\n",
    "        index_ = np.array(index_max)\n",
    "        # 会和前面的别的index弄混\n",
    "        epoch = pd.concat([epoch,data.loc[index_]],axis=0)  # 放入使评价函数最优的数据\n",
    "        data = data.drop(index=index_,axis=0)     # 数据池里面拿出数据\n",
    "\n",
    "        print('|---',index_,'---|---',len(data),'---|---','%.3f' % best_score,'---|')\n",
    "        \n",
    "        \n",
    "        if(len(score_list)>4):\n",
    "            if(score_list[-1]<score_list[-2]<score_list[-3]<score_list[-4]):  #score连续下降4次时跳出循环\n",
    "                break;\n",
    "                \n",
    "    ## 把效果最好的score的index取出来\n",
    "    # epoch = epoch.drop([0:len(data_truth_train)],axis=0)\n",
    "    best_epoch = data_truth_train    # 初始4条\n",
    "    bs = np.max(score_list)          # 最好成绩\n",
    "    bs_ = score_list.index(bs)       # 最好成绩的idx\n",
    "    for i in range(0,bs_+1):         # 出现最好成绩为止所有选出来的数据\n",
    "        bs_idx = np.array(index_list[i])\n",
    "        print(bs_idx)\n",
    "        best_epoch = pd.concat([best_epoch,data_all.loc[bs_idx]],axis=0)   # 把数据池筛选的数据拿出来\n",
    "\n",
    "    plt.plot(score_list, color='green',label=\"score_list\")\n",
    "    plt.title(\"score VS loop\")\n",
    "    plt.show()\n",
    "    # print(index_drop)\n",
    "\n",
    "    return best_epoch, bs"
   ]
  },
  {
   "cell_type": "markdown",
   "metadata": {},
   "source": [
    "### Data screaning"
   ]
  },
  {
   "cell_type": "code",
   "execution_count": 34,
   "metadata": {},
   "outputs": [],
   "source": [
    "data = data_.copy()"
   ]
  },
  {
   "cell_type": "code",
   "execution_count": 35,
   "metadata": {},
   "outputs": [],
   "source": [
    "epoch = data_truth_train"
   ]
  },
  {
   "cell_type": "code",
   "execution_count": 36,
   "metadata": {},
   "outputs": [
    {
     "data": {
      "text/plain": [
       "123"
      ]
     },
     "execution_count": 36,
     "metadata": {},
     "output_type": "execute_result"
    }
   ],
   "source": [
    "len(data)"
   ]
  },
  {
   "cell_type": "code",
   "execution_count": 37,
   "metadata": {},
   "outputs": [
    {
     "name": "stdout",
     "output_type": "stream",
     "text": [
      "----现在进行第 0 轮筛选-----\n",
      "|  选出数据池的index  |  数据池剩余   |   the score   |\n",
      "|--- [36  8 41] ---|--- 120 ---|--- 0.637 ---|\n",
      "|--- [100  95 119] ---|--- 117 ---|--- 0.647 ---|\n",
      "|--- [ 79 102  38] ---|--- 114 ---|--- 0.581 ---|\n",
      "|--- [ 89 106  57] ---|--- 111 ---|--- 0.727 ---|\n",
      "|--- [ 0 37 93] ---|--- 108 ---|--- 0.746 ---|\n",
      "|--- [ 22  32 107] ---|--- 105 ---|--- 0.766 ---|\n",
      "|--- [72 65 88] ---|--- 102 ---|--- 0.774 ---|\n",
      "|--- [  1   5 112] ---|--- 99 ---|--- 0.753 ---|\n",
      "|--- [ 53  97 101] ---|--- 96 ---|--- 0.782 ---|\n",
      "|--- [67 94 14] ---|--- 93 ---|--- 0.786 ---|\n",
      "|--- [90 28  3] ---|--- 90 ---|--- 0.791 ---|\n",
      "|--- [ 78 105 103] ---|--- 87 ---|--- 0.768 ---|\n",
      "|--- [108  10  77] ---|--- 84 ---|--- 0.683 ---|\n",
      "|--- [ 58  59 109] ---|--- 81 ---|--- 0.587 ---|\n",
      "[36  8 41]\n",
      "[100  95 119]\n",
      "[ 79 102  38]\n",
      "[ 89 106  57]\n",
      "[ 0 37 93]\n",
      "[ 22  32 107]\n",
      "[72 65 88]\n",
      "[  1   5 112]\n",
      "[ 53  97 101]\n",
      "[67 94 14]\n",
      "[90 28  3]\n"
     ]
    },
    {
     "data": {
      "image/png": "[encoded data removed]",
      "text/plain": [
       "<Figure size 432x288 with 1 Axes>"
      ]
     },
     "metadata": {
      "needs_background": "light"
     },
     "output_type": "display_data"
    },
    {
     "name": "stdout",
     "output_type": "stream",
     "text": [
      "----现在进行第 1 轮筛选-----\n",
      "|  选出数据池的index  |  数据池剩余   |   the score   |\n",
      "|--- [ 49 108 112] ---|--- 120 ---|--- 0.579 ---|\n",
      "|--- [90 80 51] ---|--- 117 ---|--- 0.537 ---|\n",
      "|--- [107  62  77] ---|--- 114 ---|--- 0.493 ---|\n",
      "|--- [10 36  1] ---|--- 111 ---|--- 0.511 ---|\n",
      "|--- [105  64  63] ---|--- 108 ---|--- 0.574 ---|\n",
      "|--- [ 91  57 119] ---|--- 105 ---|--- 0.556 ---|\n",
      "|--- [47 33 88] ---|--- 102 ---|--- 0.535 ---|\n",
      "|--- [121  97  21] ---|--- 99 ---|--- 0.582 ---|\n",
      "|--- [59 32 95] ---|--- 96 ---|--- 0.620 ---|\n",
      "|--- [92 46 53] ---|--- 93 ---|--- 0.645 ---|\n",
      "|--- [103 115  70] ---|--- 90 ---|--- 0.655 ---|\n",
      "|--- [ 37  82 117] ---|--- 87 ---|--- 0.655 ---|\n",
      "|--- [96 50 83] ---|--- 84 ---|--- 0.634 ---|\n",
      "|--- [ 3 18  7] ---|--- 81 ---|--- 0.655 ---|\n",
      "|--- [113 104  30] ---|--- 78 ---|--- 0.623 ---|\n",
      "|--- [101   6   9] ---|--- 75 ---|--- 0.633 ---|\n",
      "|--- [ 56  31 120] ---|--- 72 ---|--- 0.633 ---|\n",
      "|--- [28 13 19] ---|--- 69 ---|--- 0.560 ---|\n",
      "|--- [  0  29 100] ---|--- 66 ---|--- 0.575 ---|\n",
      "|--- [22 65 12] ---|--- 63 ---|--- 0.600 ---|\n",
      "|--- [116   4  84] ---|--- 60 ---|--- 0.528 ---|\n",
      "|--- [86 14 78] ---|--- 57 ---|--- 0.583 ---|\n",
      "|--- [89 69 93] ---|--- 54 ---|--- 0.469 ---|\n",
      "|--- [66 48 11] ---|--- 51 ---|--- 0.472 ---|\n",
      "|--- [ 16 110 114] ---|--- 48 ---|--- 0.457 ---|\n",
      "|--- [58 52 85] ---|--- 45 ---|--- 0.326 ---|\n",
      "|--- [15 17 24] ---|--- 42 ---|--- 0.457 ---|\n",
      "|--- [ 39  99 102] ---|--- 39 ---|--- 0.393 ---|\n",
      "|--- [75 41 72] ---|--- 36 ---|--- 0.324 ---|\n",
      "|--- [76 98  8] ---|--- 33 ---|--- 0.135 ---|\n",
      "[ 49 108 112]\n",
      "[90 80 51]\n",
      "[107  62  77]\n",
      "[10 36  1]\n",
      "[105  64  63]\n",
      "[ 91  57 119]\n",
      "[47 33 88]\n",
      "[121  97  21]\n",
      "[59 32 95]\n",
      "[92 46 53]\n",
      "[103 115  70]\n",
      "[ 37  82 117]\n",
      "[96 50 83]\n",
      "[ 3 18  7]\n"
     ]
    },
    {
     "data": {
      "image/png": "[encoded data removed]",
      "text/plain": [
       "<Figure size 432x288 with 1 Axes>"
      ]
     },
     "metadata": {
      "needs_background": "light"
     },
     "output_type": "display_data"
    },
    {
     "name": "stdout",
     "output_type": "stream",
     "text": [
      "----现在进行第 2 轮筛选-----\n",
      "|  选出数据池的index  |  数据池剩余   |   the score   |\n",
      "|--- [121 100 120] ---|--- 120 ---|--- 0.608 ---|\n",
      "|--- [ 35 104  79] ---|--- 117 ---|--- 0.648 ---|\n",
      "|--- [47 23 46] ---|--- 114 ---|--- 0.631 ---|\n",
      "|--- [30 84 94] ---|--- 111 ---|--- 0.663 ---|\n",
      "|--- [38 62 36] ---|--- 108 ---|--- 0.728 ---|\n",
      "|--- [57 48 32] ---|--- 105 ---|--- 0.741 ---|\n",
      "|--- [25  6 33] ---|--- 102 ---|--- 0.741 ---|\n",
      "|--- [59 28 61] ---|--- 99 ---|--- 0.672 ---|\n",
      "|--- [ 58 119  99] ---|--- 96 ---|--- 0.596 ---|\n",
      "[121 100 120]\n",
      "[ 35 104  79]\n",
      "[47 23 46]\n",
      "[30 84 94]\n",
      "[38 62 36]\n",
      "[57 48 32]\n"
     ]
    },
    {
     "data": {
      "image/png": "[encoded data removed]",
      "text/plain": [
       "<Figure size 432x288 with 1 Axes>"
      ]
     },
     "metadata": {
      "needs_background": "light"
     },
     "output_type": "display_data"
    },
    {
     "name": "stdout",
     "output_type": "stream",
     "text": [
      "----现在进行第 3 轮筛选-----\n",
      "|  选出数据池的index  |  数据池剩余   |   the score   |\n",
      "|--- [68 80 84] ---|--- 120 ---|--- 0.616 ---|\n",
      "|--- [47 30 37] ---|--- 117 ---|--- 0.661 ---|\n",
      "|--- [22 99 32] ---|--- 114 ---|--- 0.568 ---|\n",
      "|--- [106  35 113] ---|--- 111 ---|--- 0.653 ---|\n",
      "|--- [ 62 105   4] ---|--- 108 ---|--- 0.648 ---|\n",
      "|--- [ 98 107  95] ---|--- 105 ---|--- 0.619 ---|\n",
      "|--- [ 7 82 57] ---|--- 102 ---|--- 0.729 ---|\n",
      "|--- [38 97 89] ---|--- 99 ---|--- 0.693 ---|\n",
      "|--- [60  0 31] ---|--- 96 ---|--- 0.688 ---|\n",
      "|--- [56  1 33] ---|--- 93 ---|--- 0.676 ---|\n",
      "[68 80 84]\n",
      "[47 30 37]\n",
      "[22 99 32]\n",
      "[106  35 113]\n",
      "[ 62 105   4]\n",
      "[ 98 107  95]\n",
      "[ 7 82 57]\n"
     ]
    },
    {
     "data": {
      "image/png": "[encoded data removed]",
      "text/plain": [
       "<Figure size 432x288 with 1 Axes>"
      ]
     },
     "metadata": {
      "needs_background": "light"
     },
     "output_type": "display_data"
    },
    {
     "name": "stdout",
     "output_type": "stream",
     "text": [
      "----现在进行第 4 轮筛选-----\n",
      "|  选出数据池的index  |  数据池剩余   |   the score   |\n",
      "|--- [ 37  86 103] ---|--- 120 ---|--- 0.663 ---|\n",
      "|--- [28 47 32] ---|--- 117 ---|--- 0.695 ---|\n",
      "|--- [  0 101  46] ---|--- 114 ---|--- 0.611 ---|\n",
      "|--- [68 56 38] ---|--- 111 ---|--- 0.670 ---|\n",
      "|--- [ 57  82 106] ---|--- 108 ---|--- 0.606 ---|\n",
      "|--- [ 27 105  97] ---|--- 105 ---|--- 0.659 ---|\n",
      "|--- [ 90  94 115] ---|--- 102 ---|--- 0.698 ---|\n",
      "|--- [22  9 83] ---|--- 99 ---|--- 0.692 ---|\n",
      "|--- [ 18  50 108] ---|--- 96 ---|--- 0.683 ---|\n",
      "|--- [ 33 114 102] ---|--- 93 ---|--- 0.673 ---|\n",
      "[ 37  86 103]\n",
      "[28 47 32]\n",
      "[  0 101  46]\n",
      "[68 56 38]\n",
      "[ 57  82 106]\n",
      "[ 27 105  97]\n",
      "[ 90  94 115]\n"
     ]
    },
    {
     "data": {
      "image/png": "[encoded data removed]",
      "text/plain": [
       "<Figure size 432x288 with 1 Axes>"
      ]
     },
     "metadata": {
      "needs_background": "light"
     },
     "output_type": "display_data"
    },
    {
     "name": "stdout",
     "output_type": "stream",
     "text": [
      "----现在进行第 5 轮筛选-----\n",
      "|  选出数据池的index  |  数据池剩余   |   the score   |\n",
      "|--- [41 88 22] ---|--- 120 ---|--- 0.590 ---|\n",
      "|--- [25 83 98] ---|--- 117 ---|--- 0.644 ---|\n",
      "|--- [117  35  49] ---|--- 114 ---|--- 0.585 ---|\n",
      "|--- [57 63 79] ---|--- 111 ---|--- 0.604 ---|\n",
      "|--- [12 94 48] ---|--- 108 ---|--- 0.679 ---|\n",
      "|--- [ 62  95 103] ---|--- 105 ---|--- 0.741 ---|\n",
      "|--- [121  69 108] ---|--- 102 ---|--- 0.765 ---|\n",
      "|--- [80 85  2] ---|--- 99 ---|--- 0.715 ---|\n",
      "|--- [ 17 102  38] ---|--- 96 ---|--- 0.718 ---|\n",
      "|--- [92 32 14] ---|--- 93 ---|--- 0.699 ---|\n",
      "|--- [ 46 114  97] ---|--- 90 ---|--- 0.674 ---|\n",
      "|--- [18 96 36] ---|--- 87 ---|--- 0.646 ---|\n",
      "[41 88 22]\n",
      "[25 83 98]\n",
      "[117  35  49]\n",
      "[57 63 79]\n",
      "[12 94 48]\n",
      "[ 62  95 103]\n",
      "[121  69 108]\n"
     ]
    },
    {
     "data": {
      "image/png": "[encoded data removed]",
      "text/plain": [
       "<Figure size 432x288 with 1 Axes>"
      ]
     },
     "metadata": {
      "needs_background": "light"
     },
     "output_type": "display_data"
    },
    {
     "name": "stdout",
     "output_type": "stream",
     "text": [
      "----现在进行第 6 轮筛选-----\n",
      "|  选出数据池的index  |  数据池剩余   |   the score   |\n",
      "|--- [98 46 84] ---|--- 120 ---|--- 0.626 ---|\n",
      "|--- [121 119 100] ---|--- 117 ---|--- 0.699 ---|\n",
      "|--- [  8 105  56] ---|--- 114 ---|--- 0.705 ---|\n",
      "|--- [28 14 41] ---|--- 111 ---|--- 0.710 ---|\n",
      "|--- [107  32  82] ---|--- 108 ---|--- 0.673 ---|\n",
      "|--- [60 37  7] ---|--- 105 ---|--- 0.680 ---|\n",
      "|--- [86 99 90] ---|--- 102 ---|--- 0.652 ---|\n",
      "|--- [101   9  88] ---|--- 99 ---|--- 0.677 ---|\n",
      "|--- [  2  64 114] ---|--- 96 ---|--- 0.648 ---|\n",
      "|--- [ 13  25 117] ---|--- 93 ---|--- 0.655 ---|\n",
      "|--- [106  91  12] ---|--- 90 ---|--- 0.653 ---|\n",
      "|--- [ 78  67 108] ---|--- 87 ---|--- 0.644 ---|\n",
      "|--- [89 65 95] ---|--- 84 ---|--- 0.619 ---|\n",
      "[98 46 84]\n",
      "[121 119 100]\n",
      "[  8 105  56]\n",
      "[28 14 41]\n"
     ]
    },
    {
     "data": {
      "image/png": "[encoded data removed]",
      "text/plain": [
       "<Figure size 432x288 with 1 Axes>"
      ]
     },
     "metadata": {
      "needs_background": "light"
     },
     "output_type": "display_data"
    },
    {
     "name": "stdout",
     "output_type": "stream",
     "text": [
      "----现在进行第 7 轮筛选-----\n",
      "|  选出数据池的index  |  数据池剩余   |   the score   |\n",
      "|--- [117   2  84] ---|--- 120 ---|--- 0.649 ---|\n",
      "|--- [113  46  95] ---|--- 117 ---|--- 0.738 ---|\n",
      "|--- [119  49  85] ---|--- 114 ---|--- 0.722 ---|\n",
      "|--- [28  5 47] ---|--- 111 ---|--- 0.738 ---|\n",
      "|--- [50 98 36] ---|--- 108 ---|--- 0.657 ---|\n",
      "|--- [ 37  79 111] ---|--- 105 ---|--- 0.697 ---|\n",
      "|--- [102 112   4] ---|--- 102 ---|--- 0.747 ---|\n",
      "|--- [62  7 38] ---|--- 99 ---|--- 0.709 ---|\n",
      "|--- [ 51 101 105] ---|--- 96 ---|--- 0.698 ---|\n",
      "|--- [114 108 115] ---|--- 93 ---|--- 0.676 ---|\n",
      "[117   2  84]\n",
      "[113  46  95]\n",
      "[119  49  85]\n",
      "[28  5 47]\n",
      "[50 98 36]\n",
      "[ 37  79 111]\n",
      "[102 112   4]\n"
     ]
    },
    {
     "data": {
      "image/png": "[encoded data removed]",
      "text/plain": [
       "<Figure size 432x288 with 1 Axes>"
      ]
     },
     "metadata": {
      "needs_background": "light"
     },
     "output_type": "display_data"
    },
    {
     "name": "stdout",
     "output_type": "stream",
     "text": [
      "----现在进行第 8 轮筛选-----\n",
      "|  选出数据池的index  |  数据池剩余   |   the score   |\n",
      "|--- [32 48 49] ---|--- 120 ---|--- 0.632 ---|\n",
      "|--- [114  97  37] ---|--- 117 ---|--- 0.715 ---|\n",
      "|--- [ 35  31 106] ---|--- 114 ---|--- 0.618 ---|\n",
      "|--- [69 95  5] ---|--- 111 ---|--- 0.751 ---|\n",
      "|--- [107  51  94] ---|--- 108 ---|--- 0.736 ---|\n",
      "|--- [57 64 84] ---|--- 105 ---|--- 0.715 ---|\n",
      "|--- [59 96 28] ---|--- 102 ---|--- 0.678 ---|\n",
      "[32 48 49]\n",
      "[114  97  37]\n",
      "[ 35  31 106]\n",
      "[69 95  5]\n"
     ]
    },
    {
     "data": {
      "image/png": "[encoded data removed]",
      "text/plain": [
       "<Figure size 432x288 with 1 Axes>"
      ]
     },
     "metadata": {
      "needs_background": "light"
     },
     "output_type": "display_data"
    },
    {
     "name": "stdout",
     "output_type": "stream",
     "text": [
      "----现在进行第 9 轮筛选-----\n",
      "|  选出数据池的index  |  数据池剩余   |   the score   |\n",
      "|--- [87 34 33] ---|--- 120 ---|--- 0.656 ---|\n",
      "|--- [108  53   9] ---|--- 117 ---|--- 0.289 ---|\n",
      "|--- [ 52 113  12] ---|--- 114 ---|--- 0.171 ---|\n",
      "|--- [48 80  8] ---|--- 111 ---|--- 0.099 ---|\n",
      "|--- [ 0 70 83] ---|--- 108 ---|--- 0.109 ---|\n",
      "|--- [ 84  13 103] ---|--- 105 ---|--- 0.137 ---|\n",
      "|--- [32 65 63] ---|--- 102 ---|--- 0.274 ---|\n",
      "|--- [60 90 31] ---|--- 99 ---|--- 0.185 ---|\n",
      "|--- [112 117   5] ---|--- 96 ---|--- 0.336 ---|\n",
      "|--- [37 89  7] ---|--- 93 ---|--- 0.495 ---|\n",
      "|--- [111   1   3] ---|--- 90 ---|--- 0.404 ---|\n",
      "|--- [82 49 30] ---|--- 87 ---|--- 0.312 ---|\n",
      "|--- [120 121  92] ---|--- 84 ---|--- 0.460 ---|\n",
      "|--- [ 14  95 116] ---|--- 81 ---|--- 0.449 ---|\n",
      "|--- [61 47 72] ---|--- 78 ---|--- 0.372 ---|\n",
      "|--- [119  64  99] ---|--- 75 ---|--- 0.111 ---|\n",
      "[87 34 33]\n"
     ]
    },
    {
     "data": {
      "image/png": "[encoded data removed]",
      "text/plain": [
       "<Figure size 432x288 with 1 Axes>"
      ]
     },
     "metadata": {
      "needs_background": "light"
     },
     "output_type": "display_data"
    },
    {
     "name": "stdout",
     "output_type": "stream",
     "text": [
      "----现在进行第 10 轮筛选-----\n",
      "|  选出数据池的index  |  数据池剩余   |   the score   |\n",
      "|--- [ 0 56 24] ---|--- 120 ---|--- 0.641 ---|\n",
      "|--- [88 12 41] ---|--- 117 ---|--- 0.583 ---|\n",
      "|--- [ 14 106  84] ---|--- 114 ---|--- 0.585 ---|\n",
      "|--- [120  25  62] ---|--- 111 ---|--- 0.725 ---|\n",
      "|--- [ 55 100  69] ---|--- 108 ---|--- 0.667 ---|\n",
      "|--- [ 85 107  77] ---|--- 105 ---|--- 0.685 ---|\n",
      "|--- [23 91 50] ---|--- 102 ---|--- 0.643 ---|\n",
      "|--- [ 51 121  33] ---|--- 99 ---|--- 0.606 ---|\n",
      "|--- [111   8  28] ---|--- 96 ---|--- 0.627 ---|\n",
      "|--- [ 38  63 102] ---|--- 93 ---|--- 0.608 ---|\n",
      "|--- [104 103  49] ---|--- 90 ---|--- 0.647 ---|\n",
      "|--- [37 52  4] ---|--- 87 ---|--- 0.631 ---|\n",
      "|--- [65 90 19] ---|--- 84 ---|--- 0.571 ---|\n",
      "|--- [59 18 89] ---|--- 81 ---|--- 0.582 ---|\n",
      "|--- [ 72 110 112] ---|--- 78 ---|--- 0.608 ---|\n",
      "|--- [ 48 114  60] ---|--- 75 ---|--- 0.615 ---|\n",
      "|--- [ 9 68 10] ---|--- 72 ---|--- 0.657 ---|\n",
      "|--- [39 36 17] ---|--- 69 ---|--- 0.601 ---|\n",
      "|--- [97 92 32] ---|--- 66 ---|--- 0.555 ---|\n",
      "|--- [ 16 105  95] ---|--- 63 ---|--- 0.350 ---|\n",
      "[ 0 56 24]\n",
      "[88 12 41]\n",
      "[ 14 106  84]\n",
      "[120  25  62]\n"
     ]
    },
    {
     "data": {
      "image/png": "[encoded data removed]",
      "text/plain": [
       "<Figure size 432x288 with 1 Axes>"
      ]
     },
     "metadata": {
      "needs_background": "light"
     },
     "output_type": "display_data"
    },
    {
     "name": "stdout",
     "output_type": "stream",
     "text": [
      "----现在进行第 11 轮筛选-----\n",
      "|  选出数据池的index  |  数据池剩余   |   the score   |\n",
      "|--- [115  50  99] ---|--- 120 ---|--- 0.666 ---|\n",
      "|--- [28 86 80] ---|--- 117 ---|--- 0.744 ---|\n",
      "|--- [ 8 64 85] ---|--- 114 ---|--- 0.596 ---|\n",
      "|--- [ 48  56 113] ---|--- 111 ---|--- 0.615 ---|\n",
      "|--- [117  22  84] ---|--- 108 ---|--- 0.662 ---|\n",
      "|--- [27 53 49] ---|--- 105 ---|--- 0.627 ---|\n",
      "|--- [112  63  47] ---|--- 102 ---|--- 0.703 ---|\n",
      "|--- [31 10 57] ---|--- 99 ---|--- 0.676 ---|\n",
      "|--- [ 82  35 106] ---|--- 96 ---|--- 0.674 ---|\n",
      "|--- [67 70 96] ---|--- 93 ---|--- 0.723 ---|\n",
      "|--- [102  60  89] ---|--- 90 ---|--- 0.682 ---|\n",
      "|--- [105  65  58] ---|--- 87 ---|--- 0.672 ---|\n",
      "|--- [33 79 41] ---|--- 84 ---|--- 0.651 ---|\n",
      "[115  50  99]\n",
      "[28 86 80]\n"
     ]
    },
    {
     "data": {
      "image/png": "[encoded data removed]",
      "text/plain": [
       "<Figure size 432x288 with 1 Axes>"
      ]
     },
     "metadata": {
      "needs_background": "light"
     },
     "output_type": "display_data"
    },
    {
     "name": "stdout",
     "output_type": "stream",
     "text": [
      "----现在进行第 12 轮筛选-----\n",
      "|  选出数据池的index  |  数据池剩余   |   the score   |\n",
      "|--- [85 36  8] ---|--- 120 ---|--- 0.646 ---|\n",
      "|--- [99 84 55] ---|--- 117 ---|--- 0.740 ---|\n",
      "|--- [114  35  17] ---|--- 114 ---|--- 0.584 ---|\n",
      "|--- [108  81   1] ---|--- 111 ---|--- 0.613 ---|\n",
      "|--- [38 64 59] ---|--- 108 ---|--- 0.553 ---|\n",
      "|--- [120  80  49] ---|--- 105 ---|--- -0.045 ---|\n",
      "|--- [ 48  90 111] ---|--- 102 ---|--- 0.535 ---|\n",
      "|--- [97 50 58] ---|--- 99 ---|--- 0.616 ---|\n",
      "|--- [ 5 16 79] ---|--- 96 ---|--- 0.528 ---|\n",
      "|--- [22 51 56] ---|--- 93 ---|--- 0.577 ---|\n",
      "|--- [ 95  53 117] ---|--- 90 ---|--- 0.562 ---|\n",
      "|--- [ 72 121  25] ---|--- 87 ---|--- 0.586 ---|\n",
      "|--- [70 30 67] ---|--- 84 ---|--- 0.578 ---|\n",
      "|--- [ 98 115  19] ---|--- 81 ---|--- 0.666 ---|\n",
      "|--- [107  94 116] ---|--- 78 ---|--- 0.613 ---|\n",
      "|--- [60 41 93] ---|--- 75 ---|--- 0.604 ---|\n",
      "|--- [110 100  82] ---|--- 72 ---|--- 0.620 ---|\n",
      "|--- [32 74 88] ---|--- 69 ---|--- 0.575 ---|\n",
      "|--- [102  10  28] ---|--- 66 ---|--- 0.504 ---|\n",
      "|--- [ 29 101  77] ---|--- 63 ---|--- 0.536 ---|\n",
      "|--- [ 11 113  37] ---|--- 60 ---|--- 0.582 ---|\n",
      "|--- [42 65 83] ---|--- 57 ---|--- 0.514 ---|\n",
      "|--- [86 52  2] ---|--- 54 ---|--- 0.484 ---|\n",
      "|--- [ 6 66 18] ---|--- 51 ---|--- 0.399 ---|\n",
      "[85 36  8]\n",
      "[99 84 55]\n"
     ]
    },
    {
     "data": {
      "image/png": "[encoded data removed]",
      "text/plain": [
       "<Figure size 432x288 with 1 Axes>"
      ]
     },
     "metadata": {
      "needs_background": "light"
     },
     "output_type": "display_data"
    },
    {
     "name": "stdout",
     "output_type": "stream",
     "text": [
      "----现在进行第 13 轮筛选-----\n",
      "|  选出数据池的index  |  数据池剩余   |   the score   |\n",
      "|--- [30 59 24] ---|--- 120 ---|--- 0.686 ---|\n",
      "|--- [100  79 122] ---|--- 117 ---|--- 0.663 ---|\n",
      "|--- [ 67 106  82] ---|--- 114 ---|--- 0.419 ---|\n",
      "|--- [105  88   0] ---|--- 111 ---|--- 0.522 ---|\n",
      "|--- [96 94 72] ---|--- 108 ---|--- 0.603 ---|\n",
      "|--- [ 10 103  23] ---|--- 105 ---|--- 0.571 ---|\n",
      "|--- [21 57 33] ---|--- 102 ---|--- 0.504 ---|\n",
      "|--- [89 65 97] ---|--- 99 ---|--- 0.572 ---|\n",
      "|--- [117  77  36] ---|--- 96 ---|--- 0.598 ---|\n",
      "|--- [ 7 54 92] ---|--- 93 ---|--- 0.651 ---|\n",
      "|--- [63 38  3] ---|--- 90 ---|--- 0.626 ---|\n",
      "|--- [ 25 107  50] ---|--- 87 ---|--- 0.601 ---|\n",
      "|--- [ 48 120  90] ---|--- 84 ---|--- 0.615 ---|\n",
      "|--- [108  39  19] ---|--- 81 ---|--- 0.633 ---|\n",
      "|--- [32 46 28] ---|--- 78 ---|--- 0.487 ---|\n",
      "|--- [85 14 56] ---|--- 75 ---|--- 0.505 ---|\n",
      "|--- [64  1 40] ---|--- 72 ---|--- 0.548 ---|\n",
      "|--- [86 83 62] ---|--- 69 ---|--- 0.551 ---|\n",
      "|--- [58 34  5] ---|--- 66 ---|--- 0.567 ---|\n",
      "|--- [ 41   2 114] ---|--- 63 ---|--- 0.246 ---|\n",
      "|--- [51 70 91] ---|--- 60 ---|--- 0.367 ---|\n",
      "|--- [93 61 68] ---|--- 57 ---|--- 0.382 ---|\n",
      "|--- [ 6 35 16] ---|--- 54 ---|--- 0.254 ---|\n",
      "|--- [69 27 78] ---|--- 51 ---|--- 0.199 ---|\n",
      "|--- [113 101  15] ---|--- 48 ---|--- 0.381 ---|\n",
      "|--- [98 53 66] ---|--- 45 ---|--- 0.200 ---|\n",
      "|--- [ 31  60 110] ---|--- 42 ---|--- 0.168 ---|\n",
      "|--- [ 74 104   8] ---|--- 39 ---|--- 0.235 ---|\n",
      "|--- [ 9 49 80] ---|--- 36 ---|--- 0.210 ---|\n",
      "|--- [ 4 45 42] ---|--- 33 ---|--- 0.078 ---|\n",
      "|--- [121  95  44] ---|--- 30 ---|--- -0.140 ---|\n",
      "[30 59 24]\n"
     ]
    },
    {
     "data": {
      "image/png": "[encoded data removed]",
      "text/plain": [
       "<Figure size 432x288 with 1 Axes>"
      ]
     },
     "metadata": {
      "needs_background": "light"
     },
     "output_type": "display_data"
    },
    {
     "name": "stdout",
     "output_type": "stream",
     "text": [
      "----现在进行第 14 轮筛选-----\n",
      "|  选出数据池的index  |  数据池剩余   |   the score   |\n",
      "|--- [115  50  36] ---|--- 120 ---|--- 0.603 ---|\n",
      "|--- [106  49  25] ---|--- 117 ---|--- 0.627 ---|\n",
      "|--- [107   9 112] ---|--- 114 ---|--- 0.602 ---|\n",
      "|--- [ 0 84 78] ---|--- 111 ---|--- 0.662 ---|\n",
      "|--- [ 41 101  21] ---|--- 108 ---|--- 0.637 ---|\n",
      "|--- [23 10 82] ---|--- 105 ---|--- 0.672 ---|\n",
      "|--- [105  83  88] ---|--- 102 ---|--- 0.713 ---|\n",
      "|--- [  8 103  37] ---|--- 99 ---|--- 0.761 ---|\n",
      "|--- [92 90 95] ---|--- 96 ---|--- 0.720 ---|\n",
      "|--- [97 63 17] ---|--- 93 ---|--- 0.649 ---|\n",
      "|--- [18 35 55] ---|--- 90 ---|--- 0.690 ---|\n",
      "|--- [70 30 53] ---|--- 87 ---|--- 0.726 ---|\n",
      "|--- [ 31  24 114] ---|--- 84 ---|--- 0.721 ---|\n",
      "|--- [102 120 104] ---|--- 81 ---|--- 0.691 ---|\n",
      "|--- [  4 100  77] ---|--- 78 ---|--- 0.702 ---|\n",
      "|--- [ 19  13 113] ---|--- 75 ---|--- 0.630 ---|\n",
      "|--- [121 111 122] ---|--- 72 ---|--- 0.643 ---|\n",
      "|--- [58 27 72] ---|--- 69 ---|--- 0.639 ---|\n",
      "|--- [98 76 60] ---|--- 66 ---|--- 0.625 ---|\n",
      "|--- [ 34  46 119] ---|--- 63 ---|--- 0.629 ---|\n",
      "|--- [ 57 110  69] ---|--- 60 ---|--- 0.580 ---|\n",
      "|--- [66  2 33] ---|--- 57 ---|--- 0.576 ---|\n",
      "|--- [39 62 38] ---|--- 54 ---|--- 0.528 ---|\n",
      "[115  50  36]\n",
      "[106  49  25]\n",
      "[107   9 112]\n",
      "[ 0 84 78]\n",
      "[ 41 101  21]\n",
      "[23 10 82]\n",
      "[105  83  88]\n",
      "[  8 103  37]\n"
     ]
    },
    {
     "data": {
      "image/png": "[encoded data removed]",
      "text/plain": [
       "<Figure size 432x288 with 1 Axes>"
      ]
     },
     "metadata": {
      "needs_background": "light"
     },
     "output_type": "display_data"
    },
    {
     "name": "stdout",
     "output_type": "stream",
     "text": [
      "----现在进行第 15 轮筛选-----\n",
      "|  选出数据池的index  |  数据池剩余   |   the score   |\n",
      "|--- [32  8  0] ---|--- 120 ---|--- 0.647 ---|\n",
      "|--- [119  53  55] ---|--- 117 ---|--- 0.696 ---|\n",
      "|--- [108  38 116] ---|--- 114 ---|--- 0.739 ---|\n",
      "|--- [112 114  41] ---|--- 111 ---|--- 0.704 ---|\n",
      "|--- [83 23 97] ---|--- 108 ---|--- 0.563 ---|\n",
      "|--- [12 94 59] ---|--- 105 ---|--- 0.671 ---|\n",
      "|--- [100  96  85] ---|--- 102 ---|--- 0.645 ---|\n",
      "|--- [ 69 107  88] ---|--- 99 ---|--- 0.683 ---|\n",
      "|--- [105  22  21] ---|--- 96 ---|--- 0.698 ---|\n",
      "|--- [ 86 122  78] ---|--- 93 ---|--- 0.667 ---|\n",
      "|--- [89 48  5] ---|--- 90 ---|--- 0.643 ---|\n",
      "|--- [46 64 14] ---|--- 87 ---|--- 0.714 ---|\n",
      "|--- [90 68 51] ---|--- 84 ---|--- 0.678 ---|\n",
      "|--- [54 72 35] ---|--- 81 ---|--- 0.660 ---|\n",
      "|--- [  7  36 120] ---|--- 78 ---|--- 0.582 ---|\n",
      "[32  8  0]\n",
      "[119  53  55]\n",
      "[108  38 116]\n"
     ]
    },
    {
     "data": {
      "image/png": "[encoded data removed]",
      "text/plain": [
       "<Figure size 432x288 with 1 Axes>"
      ]
     },
     "metadata": {
      "needs_background": "light"
     },
     "output_type": "display_data"
    },
    {
     "name": "stdout",
     "output_type": "stream",
     "text": [
      "----现在进行第 16 轮筛选-----\n",
      "|  选出数据池的index  |  数据池剩余   |   the score   |\n",
      "|--- [ 38 115  85] ---|--- 120 ---|--- 0.680 ---|\n",
      "|--- [  8 108  28] ---|--- 117 ---|--- 0.672 ---|\n",
      "|--- [ 14  27 114] ---|--- 114 ---|--- 0.594 ---|\n",
      "|--- [ 46  19 107] ---|--- 111 ---|--- 0.664 ---|\n",
      "|--- [ 5 22  0] ---|--- 108 ---|--- 0.668 ---|\n",
      "|--- [56 32 17] ---|--- 105 ---|--- 0.722 ---|\n",
      "|--- [106  95  98] ---|--- 102 ---|--- 0.611 ---|\n",
      "|--- [  9 100  30] ---|--- 99 ---|--- 0.707 ---|\n",
      "|--- [29 25  4] ---|--- 96 ---|--- 0.737 ---|\n",
      "|--- [31 79 47] ---|--- 93 ---|--- 0.682 ---|\n",
      "|--- [36 88 72] ---|--- 90 ---|--- 0.683 ---|\n",
      "|--- [69 65 94] ---|--- 87 ---|--- 0.684 ---|\n",
      "|--- [ 67 103  93] ---|--- 84 ---|--- 0.631 ---|\n",
      "|--- [51 63 83] ---|--- 81 ---|--- 0.705 ---|\n",
      "|--- [50 76 53] ---|--- 78 ---|--- 0.691 ---|\n",
      "|--- [121 104 113] ---|--- 75 ---|--- 0.691 ---|\n",
      "|--- [112  23  66] ---|--- 72 ---|--- 0.630 ---|\n",
      "|--- [12 41 91] ---|--- 69 ---|--- 0.598 ---|\n",
      "|--- [ 34  75 102] ---|--- 66 ---|--- 0.582 ---|\n",
      "[ 38 115  85]\n",
      "[  8 108  28]\n",
      "[ 14  27 114]\n",
      "[ 46  19 107]\n",
      "[ 5 22  0]\n",
      "[56 32 17]\n",
      "[106  95  98]\n",
      "[  9 100  30]\n",
      "[29 25  4]\n"
     ]
    },
    {
     "data": {
      "image/png": "[encoded data removed]",
      "text/plain": [
       "<Figure size 432x288 with 1 Axes>"
      ]
     },
     "metadata": {
      "needs_background": "light"
     },
     "output_type": "display_data"
    },
    {
     "name": "stdout",
     "output_type": "stream",
     "text": [
      "----现在进行第 17 轮筛选-----\n",
      "|  选出数据池的index  |  数据池剩余   |   the score   |\n",
      "|--- [100  69   4] ---|--- 120 ---|--- 0.637 ---|\n",
      "|--- [121  62  12] ---|--- 117 ---|--- 0.672 ---|\n",
      "|--- [114  82  99] ---|--- 114 ---|--- 0.607 ---|\n",
      "|--- [ 84 107  19] ---|--- 111 ---|--- 0.679 ---|\n",
      "|--- [95 97 85] ---|--- 108 ---|--- 0.610 ---|\n",
      "|--- [24 32 53] ---|--- 105 ---|--- 0.643 ---|\n",
      "|--- [18  8 41] ---|--- 102 ---|--- 0.667 ---|\n",
      "|--- [27 73 55] ---|--- 99 ---|--- 0.669 ---|\n",
      "|--- [ 1 11 25] ---|--- 96 ---|--- 0.585 ---|\n",
      "|--- [64 57 47] ---|--- 93 ---|--- 0.554 ---|\n",
      "|--- [ 79 103  94] ---|--- 90 ---|--- 0.572 ---|\n",
      "|--- [ 31  50 106] ---|--- 87 ---|--- 0.572 ---|\n",
      "|--- [111   2  60] ---|--- 84 ---|--- 0.550 ---|\n",
      "|--- [ 5 38 67] ---|--- 81 ---|--- 0.586 ---|\n",
      "|--- [49 96 30] ---|--- 78 ---|--- 0.504 ---|\n",
      "|--- [37 23 14] ---|--- 75 ---|--- 0.580 ---|\n",
      "|--- [ 21   9 113] ---|--- 72 ---|--- 0.521 ---|\n",
      "|--- [70 98 59] ---|--- 69 ---|--- 0.531 ---|\n",
      "|--- [34 48 86] ---|--- 66 ---|--- 0.549 ---|\n",
      "|--- [ 68 105  52] ---|--- 63 ---|--- 0.442 ---|\n",
      "|--- [56 65 78] ---|--- 60 ---|--- 0.470 ---|\n",
      "|--- [13 91 83] ---|--- 57 ---|--- 0.470 ---|\n",
      "|--- [ 58 117  29] ---|--- 54 ---|--- 0.474 ---|\n"
     ]
    },
    {
     "ename": "KeyboardInterrupt",
     "evalue": "",
     "output_type": "error",
     "traceback": [
      "\u001b[1;31m---------------------------------------------------------------------------\u001b[0m",
      "\u001b[1;31mKeyboardInterrupt\u001b[0m                         Traceback (most recent call last)",
      "\u001b[1;32m~\\AppData\\Local\\Temp\\ipykernel_16840\\738959053.py\u001b[0m in \u001b[0;36m<module>\u001b[1;34m\u001b[0m\n\u001b[0;32m     18\u001b[0m         \u001b[0mepoch\u001b[0m\u001b[1;33m.\u001b[0m\u001b[0mto_csv\u001b[0m\u001b[1;33m(\u001b[0m\u001b[0mstr\u001b[0m\u001b[1;33m(\u001b[0m\u001b[1;34m'data/choose_data_'\u001b[0m\u001b[1;33m+\u001b[0m\u001b[0mstr\u001b[0m\u001b[1;33m(\u001b[0m\u001b[0mn\u001b[0m\u001b[1;33m)\u001b[0m\u001b[1;33m+\u001b[0m\u001b[1;34m'_'\u001b[0m\u001b[1;33m+\u001b[0m\u001b[0mstr\u001b[0m\u001b[1;33m(\u001b[0m\u001b[0mi\u001b[0m\u001b[1;33m)\u001b[0m\u001b[1;33m+\u001b[0m\u001b[1;34m'_'\u001b[0m\u001b[1;33m+\u001b[0m\u001b[0mscore\u001b[0m\u001b[1;33m+\u001b[0m\u001b[1;34m'.csv'\u001b[0m\u001b[1;33m)\u001b[0m\u001b[1;33m)\u001b[0m  \u001b[1;31m# 保存第几轮赛选和对应的分数\u001b[0m\u001b[1;33m\u001b[0m\u001b[1;33m\u001b[0m\u001b[0m\n\u001b[0;32m     19\u001b[0m \u001b[1;33m\u001b[0m\u001b[0m\n\u001b[1;32m---> 20\u001b[1;33m \u001b[0mdata_shuffle\u001b[0m\u001b[1;33m(\u001b[0m\u001b[0mepoch\u001b[0m\u001b[1;33m,\u001b[0m\u001b[0mdata\u001b[0m\u001b[1;33m,\u001b[0m\u001b[1;36m3\u001b[0m\u001b[1;33m)\u001b[0m\u001b[1;33m\u001b[0m\u001b[1;33m\u001b[0m\u001b[0m\n\u001b[0m",
      "\u001b[1;32m~\\AppData\\Local\\Temp\\ipykernel_16840\\738959053.py\u001b[0m in \u001b[0;36mdata_shuffle\u001b[1;34m(epoch, data, n)\u001b[0m\n\u001b[0;32m     13\u001b[0m         \u001b[0mepoch\u001b[0m \u001b[1;33m=\u001b[0m \u001b[0mdata_truth_train\u001b[0m\u001b[1;33m\u001b[0m\u001b[1;33m\u001b[0m\u001b[0m\n\u001b[0;32m     14\u001b[0m         \u001b[0mprint\u001b[0m\u001b[1;33m(\u001b[0m\u001b[1;34m'----现在进行第'\u001b[0m\u001b[1;33m,\u001b[0m\u001b[0mi\u001b[0m\u001b[1;33m,\u001b[0m\u001b[1;34m'轮筛选-----'\u001b[0m\u001b[1;33m)\u001b[0m\u001b[1;33m\u001b[0m\u001b[1;33m\u001b[0m\u001b[0m\n\u001b[1;32m---> 15\u001b[1;33m         \u001b[0mepoch\u001b[0m\u001b[1;33m,\u001b[0m \u001b[0mscore\u001b[0m \u001b[1;33m=\u001b[0m \u001b[0mchoose_data\u001b[0m\u001b[1;33m(\u001b[0m\u001b[0mepoch\u001b[0m\u001b[1;33m,\u001b[0m\u001b[0mdata\u001b[0m\u001b[1;33m,\u001b[0m\u001b[0mn\u001b[0m\u001b[1;33m)\u001b[0m\u001b[1;33m\u001b[0m\u001b[1;33m\u001b[0m\u001b[0m\n\u001b[0m\u001b[0;32m     16\u001b[0m         \u001b[0mscore\u001b[0m \u001b[1;33m=\u001b[0m \u001b[1;34m'%.3f'\u001b[0m \u001b[1;33m%\u001b[0m \u001b[0mscore\u001b[0m\u001b[1;33m\u001b[0m\u001b[1;33m\u001b[0m\u001b[0m\n\u001b[0;32m     17\u001b[0m         \u001b[1;31m# print(str('data/choose_data'+str(i)+'.csv'))\u001b[0m\u001b[1;33m\u001b[0m\u001b[1;33m\u001b[0m\u001b[1;33m\u001b[0m\u001b[0m\n",
      "\u001b[1;32m~\\AppData\\Local\\Temp\\ipykernel_16840\\3459291573.py\u001b[0m in \u001b[0;36mchoose_data\u001b[1;34m(epoch, data, n)\u001b[0m\n\u001b[0;32m     31\u001b[0m                 \u001b[1;31m# print(data_)\u001b[0m\u001b[1;33m\u001b[0m\u001b[1;33m\u001b[0m\u001b[1;33m\u001b[0m\u001b[0m\n\u001b[0;32m     32\u001b[0m                 \u001b[0mepoch_test\u001b[0m \u001b[1;33m=\u001b[0m \u001b[0mpd\u001b[0m\u001b[1;33m.\u001b[0m\u001b[0mconcat\u001b[0m\u001b[1;33m(\u001b[0m\u001b[1;33m[\u001b[0m\u001b[0mepoch\u001b[0m\u001b[1;33m,\u001b[0m\u001b[0mdata_\u001b[0m\u001b[1;33m]\u001b[0m\u001b[1;33m,\u001b[0m\u001b[0maxis\u001b[0m\u001b[1;33m=\u001b[0m\u001b[1;36m0\u001b[0m\u001b[1;33m)\u001b[0m\u001b[1;33m\u001b[0m\u001b[1;33m\u001b[0m\u001b[0m\n\u001b[1;32m---> 33\u001b[1;33m                 \u001b[0mscore\u001b[0m \u001b[1;33m=\u001b[0m \u001b[0mscores\u001b[0m\u001b[1;33m(\u001b[0m\u001b[0mepoch_test\u001b[0m\u001b[1;33m)\u001b[0m\u001b[1;33m\u001b[0m\u001b[1;33m\u001b[0m\u001b[0m\n\u001b[0m\u001b[0;32m     34\u001b[0m                 \u001b[1;32mif\u001b[0m \u001b[0mnp\u001b[0m\u001b[1;33m.\u001b[0m\u001b[0misnan\u001b[0m\u001b[1;33m(\u001b[0m\u001b[0mscore\u001b[0m\u001b[1;33m)\u001b[0m\u001b[1;33m:\u001b[0m\u001b[1;33m\u001b[0m\u001b[1;33m\u001b[0m\u001b[0m\n\u001b[0;32m     35\u001b[0m                     \u001b[0mtest_scores\u001b[0m\u001b[1;33m.\u001b[0m\u001b[0mappend\u001b[0m\u001b[1;33m(\u001b[0m\u001b[1;36m0\u001b[0m\u001b[1;33m)\u001b[0m\u001b[1;33m\u001b[0m\u001b[1;33m\u001b[0m\u001b[0m\n",
      "\u001b[1;32m~\\AppData\\Local\\Temp\\ipykernel_16840\\1019549597.py\u001b[0m in \u001b[0;36mscores\u001b[1;34m(epoch)\u001b[0m\n\u001b[0;32m      7\u001b[0m     \u001b[0mtrain_scores\u001b[0m \u001b[1;33m=\u001b[0m \u001b[1;33m[\u001b[0m\u001b[1;33m]\u001b[0m\u001b[1;33m\u001b[0m\u001b[1;33m\u001b[0m\u001b[0m\n\u001b[0;32m      8\u001b[0m     \u001b[0mtest_scores\u001b[0m \u001b[1;33m=\u001b[0m \u001b[1;33m[\u001b[0m\u001b[1;33m]\u001b[0m\u001b[1;33m\u001b[0m\u001b[1;33m\u001b[0m\u001b[0m\n\u001b[1;32m----> 9\u001b[1;33m     \u001b[0mmodel_choose\u001b[0m\u001b[1;33m(\u001b[0m\u001b[0mSVR\u001b[0m\u001b[1;33m,\u001b[0m\u001b[0mx1\u001b[0m\u001b[1;33m,\u001b[0m\u001b[0my\u001b[0m\u001b[1;33m)\u001b[0m\u001b[1;33m\u001b[0m\u001b[1;33m\u001b[0m\u001b[0m\n\u001b[0m\u001b[0;32m     10\u001b[0m     \u001b[1;32mfor\u001b[0m \u001b[0mi\u001b[0m \u001b[1;32min\u001b[0m \u001b[0mrange\u001b[0m\u001b[1;33m(\u001b[0m\u001b[1;36m1\u001b[0m\u001b[1;33m,\u001b[0m\u001b[1;36m1000\u001b[0m\u001b[1;33m,\u001b[0m\u001b[1;36m10\u001b[0m\u001b[1;33m)\u001b[0m\u001b[1;33m:\u001b[0m\u001b[1;33m\u001b[0m\u001b[1;33m\u001b[0m\u001b[0m\n\u001b[0;32m     11\u001b[0m         \u001b[0mclf\u001b[0m \u001b[1;33m=\u001b[0m \u001b[0mSVR\u001b[0m\u001b[1;33m(\u001b[0m\u001b[0mC\u001b[0m\u001b[1;33m=\u001b[0m\u001b[0mi\u001b[0m\u001b[1;33m)\u001b[0m\u001b[1;33m\u001b[0m\u001b[1;33m\u001b[0m\u001b[0m\n",
      "\u001b[1;32m~\\AppData\\Local\\Temp\\ipykernel_16840\\3703453602.py\u001b[0m in \u001b[0;36mmodel_choose\u001b[1;34m(model_name, x, y)\u001b[0m\n\u001b[0;32m      3\u001b[0m     \u001b[1;32mfor\u001b[0m \u001b[0mi\u001b[0m \u001b[1;32min\u001b[0m \u001b[0mrange\u001b[0m\u001b[1;33m(\u001b[0m\u001b[1;36m1\u001b[0m\u001b[1;33m,\u001b[0m\u001b[1;36m1000\u001b[0m\u001b[1;33m,\u001b[0m\u001b[1;36m10\u001b[0m\u001b[1;33m)\u001b[0m\u001b[1;33m:\u001b[0m\u001b[1;33m\u001b[0m\u001b[1;33m\u001b[0m\u001b[0m\n\u001b[0;32m      4\u001b[0m         \u001b[0mclf\u001b[0m \u001b[1;33m=\u001b[0m \u001b[0mSVR\u001b[0m\u001b[1;33m(\u001b[0m\u001b[0mC\u001b[0m\u001b[1;33m=\u001b[0m\u001b[0mi\u001b[0m\u001b[1;33m)\u001b[0m\u001b[1;33m\u001b[0m\u001b[1;33m\u001b[0m\u001b[0m\n\u001b[1;32m----> 5\u001b[1;33m         \u001b[0mtrain\u001b[0m\u001b[1;33m,\u001b[0m \u001b[0mtest\u001b[0m \u001b[1;33m=\u001b[0m \u001b[0mkfold_relative_error\u001b[0m\u001b[1;33m(\u001b[0m\u001b[0mclf\u001b[0m\u001b[1;33m,\u001b[0m\u001b[0mx\u001b[0m\u001b[1;33m,\u001b[0m\u001b[0my\u001b[0m\u001b[1;33m)\u001b[0m\u001b[1;33m\u001b[0m\u001b[1;33m\u001b[0m\u001b[0m\n\u001b[0m\u001b[0;32m      6\u001b[0m         \u001b[1;31m# train, test = kfold(clf,x1,y)\u001b[0m\u001b[1;33m\u001b[0m\u001b[1;33m\u001b[0m\u001b[1;33m\u001b[0m\u001b[0m\n\u001b[0;32m      7\u001b[0m         \u001b[0mtrain_scores\u001b[0m\u001b[1;33m.\u001b[0m\u001b[0mappend\u001b[0m\u001b[1;33m(\u001b[0m\u001b[0mtrain\u001b[0m\u001b[1;33m)\u001b[0m\u001b[1;33m\u001b[0m\u001b[1;33m\u001b[0m\u001b[0m\n",
      "\u001b[1;32m~\\AppData\\Local\\Temp\\ipykernel_16840\\1862371802.py\u001b[0m in \u001b[0;36mkfold_relative_error\u001b[1;34m(model, X, y)\u001b[0m\n\u001b[0;32m     20\u001b[0m         \u001b[1;31m# 训练集预测 测试集预测\u001b[0m\u001b[1;33m\u001b[0m\u001b[1;33m\u001b[0m\u001b[1;33m\u001b[0m\u001b[0m\n\u001b[0;32m     21\u001b[0m         \u001b[0my_train_KFold_predict\u001b[0m \u001b[1;33m=\u001b[0m \u001b[0mmodel\u001b[0m\u001b[1;33m.\u001b[0m\u001b[0mpredict\u001b[0m\u001b[1;33m(\u001b[0m\u001b[0mX_train\u001b[0m\u001b[1;33m)\u001b[0m\u001b[1;33m\u001b[0m\u001b[1;33m\u001b[0m\u001b[0m\n\u001b[1;32m---> 22\u001b[1;33m         \u001b[0my_test_KFold_predict\u001b[0m \u001b[1;33m=\u001b[0m \u001b[0mmodel\u001b[0m\u001b[1;33m.\u001b[0m\u001b[0mpredict\u001b[0m\u001b[1;33m(\u001b[0m\u001b[0mX_test\u001b[0m\u001b[1;33m)\u001b[0m\u001b[1;33m\u001b[0m\u001b[1;33m\u001b[0m\u001b[0m\n\u001b[0m\u001b[0;32m     23\u001b[0m \u001b[1;33m\u001b[0m\u001b[0m\n\u001b[0;32m     24\u001b[0m         \u001b[1;31m#相对误差\u001b[0m\u001b[1;33m\u001b[0m\u001b[1;33m\u001b[0m\u001b[1;33m\u001b[0m\u001b[0m\n",
      "\u001b[1;32mC:\\anaconda3\\lib\\site-packages\\sklearn\\svm\\_base.py\u001b[0m in \u001b[0;36mpredict\u001b[1;34m(self, X)\u001b[0m\n\u001b[0;32m    414\u001b[0m         \u001b[0mX\u001b[0m \u001b[1;33m=\u001b[0m \u001b[0mself\u001b[0m\u001b[1;33m.\u001b[0m\u001b[0m_validate_for_predict\u001b[0m\u001b[1;33m(\u001b[0m\u001b[0mX\u001b[0m\u001b[1;33m)\u001b[0m\u001b[1;33m\u001b[0m\u001b[1;33m\u001b[0m\u001b[0m\n\u001b[0;32m    415\u001b[0m         \u001b[0mpredict\u001b[0m \u001b[1;33m=\u001b[0m \u001b[0mself\u001b[0m\u001b[1;33m.\u001b[0m\u001b[0m_sparse_predict\u001b[0m \u001b[1;32mif\u001b[0m \u001b[0mself\u001b[0m\u001b[1;33m.\u001b[0m\u001b[0m_sparse\u001b[0m \u001b[1;32melse\u001b[0m \u001b[0mself\u001b[0m\u001b[1;33m.\u001b[0m\u001b[0m_dense_predict\u001b[0m\u001b[1;33m\u001b[0m\u001b[1;33m\u001b[0m\u001b[0m\n\u001b[1;32m--> 416\u001b[1;33m         \u001b[1;32mreturn\u001b[0m \u001b[0mpredict\u001b[0m\u001b[1;33m(\u001b[0m\u001b[0mX\u001b[0m\u001b[1;33m)\u001b[0m\u001b[1;33m\u001b[0m\u001b[1;33m\u001b[0m\u001b[0m\n\u001b[0m\u001b[0;32m    417\u001b[0m \u001b[1;33m\u001b[0m\u001b[0m\n\u001b[0;32m    418\u001b[0m     \u001b[1;32mdef\u001b[0m \u001b[0m_dense_predict\u001b[0m\u001b[1;33m(\u001b[0m\u001b[0mself\u001b[0m\u001b[1;33m,\u001b[0m \u001b[0mX\u001b[0m\u001b[1;33m)\u001b[0m\u001b[1;33m:\u001b[0m\u001b[1;33m\u001b[0m\u001b[1;33m\u001b[0m\u001b[0m\n",
      "\u001b[1;32mC:\\anaconda3\\lib\\site-packages\\sklearn\\svm\\_base.py\u001b[0m in \u001b[0;36m_dense_predict\u001b[1;34m(self, X)\u001b[0m\n\u001b[0;32m    447\u001b[0m             \u001b[0mcoef0\u001b[0m\u001b[1;33m=\u001b[0m\u001b[0mself\u001b[0m\u001b[1;33m.\u001b[0m\u001b[0mcoef0\u001b[0m\u001b[1;33m,\u001b[0m\u001b[1;33m\u001b[0m\u001b[1;33m\u001b[0m\u001b[0m\n\u001b[0;32m    448\u001b[0m             \u001b[0mgamma\u001b[0m\u001b[1;33m=\u001b[0m\u001b[0mself\u001b[0m\u001b[1;33m.\u001b[0m\u001b[0m_gamma\u001b[0m\u001b[1;33m,\u001b[0m\u001b[1;33m\u001b[0m\u001b[1;33m\u001b[0m\u001b[0m\n\u001b[1;32m--> 449\u001b[1;33m             \u001b[0mcache_size\u001b[0m\u001b[1;33m=\u001b[0m\u001b[0mself\u001b[0m\u001b[1;33m.\u001b[0m\u001b[0mcache_size\u001b[0m\u001b[1;33m,\u001b[0m\u001b[1;33m\u001b[0m\u001b[1;33m\u001b[0m\u001b[0m\n\u001b[0m\u001b[0;32m    450\u001b[0m         )\n\u001b[0;32m    451\u001b[0m \u001b[1;33m\u001b[0m\u001b[0m\n",
      "\u001b[1;31mKeyboardInterrupt\u001b[0m: "
     ]
    }
   ],
   "source": [
    "# 打乱顺序10次\n",
    "def data_shuffle(epoch,data,n):\n",
    "    global score_list \n",
    "    global best_score_last\n",
    "    global index_list\n",
    "    \n",
    "    \n",
    "    for i in range(0,20): # 循环筛选8次\n",
    "        score_list = []\n",
    "        index_list = []\n",
    "        data = shuffle(data)\n",
    "        # 每次筛选是否重制最开始的epoch\n",
    "        epoch = data_truth_train\n",
    "        print('----现在进行第',i,'轮筛选-----')\n",
    "        epoch, score = choose_data(epoch,data,n)\n",
    "        score = '%.3f' % score\n",
    "        # print(str('data/choose_data'+str(i)+'.csv'))\n",
    "        epoch.to_csv(str('data_screening/choose_data_'+str(n)+'_'+str(i)+'_'+score+'.csv'))  # 保存第几轮赛选和对应的分数\n",
    "\n",
    "data_shuffle(epoch,data,3)"
   ]
  },
  {
   "cell_type": "markdown",
   "metadata": {},
   "source": [
    "## Validate the best dataset"
   ]
  },
  {
   "cell_type": "code",
   "execution_count": 58,
   "metadata": {},
   "outputs": [
    {
     "data": {
      "text/html": [
       "<div>\n",
       "<style scoped>\n",
       "    .dataframe tbody tr th:only-of-type {\n",
       "        vertical-align: middle;\n",
       "    }\n",
       "\n",
       "    .dataframe tbody tr th {\n",
       "        vertical-align: top;\n",
       "    }\n",
       "\n",
       "    .dataframe thead th {\n",
       "        text-align: right;\n",
       "    }\n",
       "</style>\n",
       "<table border=\"1\" class=\"dataframe\">\n",
       "  <thead>\n",
       "    <tr style=\"text-align: right;\">\n",
       "      <th></th>\n",
       "      <th>Unnamed: 0</th>\n",
       "      <th>Mn</th>\n",
       "      <th>Co</th>\n",
       "      <th>Cu</th>\n",
       "      <th>Ga</th>\n",
       "      <th>Ge</th>\n",
       "      <th>Nb</th>\n",
       "      <th>Ni</th>\n",
       "      <th>Si</th>\n",
       "      <th>Sn</th>\n",
       "      <th>...</th>\n",
       "      <th>B</th>\n",
       "      <th>Fe</th>\n",
       "      <th>Ag</th>\n",
       "      <th>element_B</th>\n",
       "      <th>Sb</th>\n",
       "      <th>Cr</th>\n",
       "      <th>Re</th>\n",
       "      <th>alpha</th>\n",
       "      <th>t1</th>\n",
       "      <th>t2</th>\n",
       "    </tr>\n",
       "  </thead>\n",
       "  <tbody>\n",
       "    <tr>\n",
       "      <th>0</th>\n",
       "      <td>0</td>\n",
       "      <td>3.1</td>\n",
       "      <td>0</td>\n",
       "      <td>0.0</td>\n",
       "      <td>0.0</td>\n",
       "      <td>0.0</td>\n",
       "      <td>0.0</td>\n",
       "      <td>0.0</td>\n",
       "      <td>0.0</td>\n",
       "      <td>0.5</td>\n",
       "      <td>...</td>\n",
       "      <td>0.0</td>\n",
       "      <td>0.0</td>\n",
       "      <td>0.0</td>\n",
       "      <td>2</td>\n",
       "      <td>0.0</td>\n",
       "      <td>0.0</td>\n",
       "      <td>0.0</td>\n",
       "      <td>-7.93</td>\n",
       "      <td>391.00</td>\n",
       "      <td>439.00</td>\n",
       "    </tr>\n",
       "    <tr>\n",
       "      <th>1</th>\n",
       "      <td>5</td>\n",
       "      <td>3.2</td>\n",
       "      <td>0</td>\n",
       "      <td>0.0</td>\n",
       "      <td>0.0</td>\n",
       "      <td>0.0</td>\n",
       "      <td>0.0</td>\n",
       "      <td>0.0</td>\n",
       "      <td>0.0</td>\n",
       "      <td>0.2</td>\n",
       "      <td>...</td>\n",
       "      <td>0.0</td>\n",
       "      <td>0.0</td>\n",
       "      <td>0.0</td>\n",
       "      <td>2</td>\n",
       "      <td>0.0</td>\n",
       "      <td>0.0</td>\n",
       "      <td>0.0</td>\n",
       "      <td>-19.60</td>\n",
       "      <td>238.00</td>\n",
       "      <td>309.00</td>\n",
       "    </tr>\n",
       "    <tr>\n",
       "      <th>2</th>\n",
       "      <td>3</td>\n",
       "      <td>3.2</td>\n",
       "      <td>0</td>\n",
       "      <td>0.0</td>\n",
       "      <td>0.0</td>\n",
       "      <td>0.0</td>\n",
       "      <td>0.0</td>\n",
       "      <td>0.0</td>\n",
       "      <td>0.0</td>\n",
       "      <td>0.4</td>\n",
       "      <td>...</td>\n",
       "      <td>0.0</td>\n",
       "      <td>0.0</td>\n",
       "      <td>0.0</td>\n",
       "      <td>2</td>\n",
       "      <td>0.0</td>\n",
       "      <td>0.0</td>\n",
       "      <td>0.0</td>\n",
       "      <td>-9.91</td>\n",
       "      <td>357.00</td>\n",
       "      <td>413.00</td>\n",
       "    </tr>\n",
       "    <tr>\n",
       "      <th>3</th>\n",
       "      <td>4</td>\n",
       "      <td>3.2</td>\n",
       "      <td>0</td>\n",
       "      <td>0.0</td>\n",
       "      <td>0.0</td>\n",
       "      <td>0.0</td>\n",
       "      <td>0.0</td>\n",
       "      <td>0.0</td>\n",
       "      <td>0.0</td>\n",
       "      <td>0.3</td>\n",
       "      <td>...</td>\n",
       "      <td>0.0</td>\n",
       "      <td>0.0</td>\n",
       "      <td>0.0</td>\n",
       "      <td>2</td>\n",
       "      <td>0.0</td>\n",
       "      <td>0.0</td>\n",
       "      <td>0.0</td>\n",
       "      <td>-33.80</td>\n",
       "      <td>293.00</td>\n",
       "      <td>345.00</td>\n",
       "    </tr>\n",
       "    <tr>\n",
       "      <th>4</th>\n",
       "      <td>71</td>\n",
       "      <td>3.0</td>\n",
       "      <td>0</td>\n",
       "      <td>0.5</td>\n",
       "      <td>0.0</td>\n",
       "      <td>0.0</td>\n",
       "      <td>0.0</td>\n",
       "      <td>0.0</td>\n",
       "      <td>0.0</td>\n",
       "      <td>0.3</td>\n",
       "      <td>...</td>\n",
       "      <td>0.0</td>\n",
       "      <td>0.0</td>\n",
       "      <td>0.0</td>\n",
       "      <td>3</td>\n",
       "      <td>0.2</td>\n",
       "      <td>0.0</td>\n",
       "      <td>0.0</td>\n",
       "      <td>-18.13</td>\n",
       "      <td>248.42</td>\n",
       "      <td>294.03</td>\n",
       "    </tr>\n",
       "  </tbody>\n",
       "</table>\n",
       "<p>5 rows × 23 columns</p>\n",
       "</div>"
      ],
      "text/plain": [
       "   Unnamed: 0   Mn  Co   Cu   Ga   Ge   Nb   Ni   Si   Sn  ...    B   Fe   Ag  \\\n",
       "0           0  3.1   0  0.0  0.0  0.0  0.0  0.0  0.0  0.5  ...  0.0  0.0  0.0   \n",
       "1           5  3.2   0  0.0  0.0  0.0  0.0  0.0  0.0  0.2  ...  0.0  0.0  0.0   \n",
       "2           3  3.2   0  0.0  0.0  0.0  0.0  0.0  0.0  0.4  ...  0.0  0.0  0.0   \n",
       "3           4  3.2   0  0.0  0.0  0.0  0.0  0.0  0.0  0.3  ...  0.0  0.0  0.0   \n",
       "4          71  3.0   0  0.5  0.0  0.0  0.0  0.0  0.0  0.3  ...  0.0  0.0  0.0   \n",
       "\n",
       "   element_B   Sb   Cr   Re  alpha      t1      t2  \n",
       "0          2  0.0  0.0  0.0  -7.93  391.00  439.00  \n",
       "1          2  0.0  0.0  0.0 -19.60  238.00  309.00  \n",
       "2          2  0.0  0.0  0.0  -9.91  357.00  413.00  \n",
       "3          2  0.0  0.0  0.0 -33.80  293.00  345.00  \n",
       "4          3  0.2  0.0  0.0 -18.13  248.42  294.03  \n",
       "\n",
       "[5 rows x 23 columns]"
      ]
     },
     "execution_count": 58,
     "metadata": {},
     "output_type": "execute_result"
    }
   ],
   "source": [
    "# epoch.to_csv('data/active_learning_3_914.csv')\n",
    "data_epoch = pd.read_csv('data_relative_error/best_data_set/choose_data_3_3_0.835.csv')\n",
    "data_epoch.head()"
   ]
  },
  {
   "cell_type": "code",
   "execution_count": 79,
   "metadata": {},
   "outputs": [
    {
     "data": {
      "text/html": [
       "<div>\n",
       "<style scoped>\n",
       "    .dataframe tbody tr th:only-of-type {\n",
       "        vertical-align: middle;\n",
       "    }\n",
       "\n",
       "    .dataframe tbody tr th {\n",
       "        vertical-align: top;\n",
       "    }\n",
       "\n",
       "    .dataframe thead th {\n",
       "        text-align: right;\n",
       "    }\n",
       "</style>\n",
       "<table border=\"1\" class=\"dataframe\">\n",
       "  <thead>\n",
       "    <tr style=\"text-align: right;\">\n",
       "      <th></th>\n",
       "      <th>Mn</th>\n",
       "      <th>Co</th>\n",
       "      <th>Cu</th>\n",
       "      <th>Ga</th>\n",
       "      <th>Ge</th>\n",
       "      <th>Nb</th>\n",
       "      <th>Ni</th>\n",
       "      <th>Si</th>\n",
       "      <th>Sn</th>\n",
       "      <th>Zn</th>\n",
       "      <th>...</th>\n",
       "      <th>B</th>\n",
       "      <th>Fe</th>\n",
       "      <th>Ag</th>\n",
       "      <th>element_B</th>\n",
       "      <th>Sb</th>\n",
       "      <th>Cr</th>\n",
       "      <th>Re</th>\n",
       "      <th>alpha</th>\n",
       "      <th>t1</th>\n",
       "      <th>t2</th>\n",
       "    </tr>\n",
       "  </thead>\n",
       "  <tbody>\n",
       "    <tr>\n",
       "      <th>1</th>\n",
       "      <td>3.1</td>\n",
       "      <td>0</td>\n",
       "      <td>0</td>\n",
       "      <td>0</td>\n",
       "      <td>0</td>\n",
       "      <td>0</td>\n",
       "      <td>0</td>\n",
       "      <td>0</td>\n",
       "      <td>0.4</td>\n",
       "      <td>0.5</td>\n",
       "      <td>...</td>\n",
       "      <td>0</td>\n",
       "      <td>0</td>\n",
       "      <td>0</td>\n",
       "      <td>2</td>\n",
       "      <td>0</td>\n",
       "      <td>0</td>\n",
       "      <td>0</td>\n",
       "      <td>-25.3</td>\n",
       "      <td>313</td>\n",
       "      <td>371</td>\n",
       "    </tr>\n",
       "    <tr>\n",
       "      <th>2</th>\n",
       "      <td>3.1</td>\n",
       "      <td>0</td>\n",
       "      <td>0</td>\n",
       "      <td>0</td>\n",
       "      <td>0</td>\n",
       "      <td>0</td>\n",
       "      <td>0</td>\n",
       "      <td>0</td>\n",
       "      <td>0.3</td>\n",
       "      <td>0.6</td>\n",
       "      <td>...</td>\n",
       "      <td>0</td>\n",
       "      <td>0</td>\n",
       "      <td>0</td>\n",
       "      <td>2</td>\n",
       "      <td>0</td>\n",
       "      <td>0</td>\n",
       "      <td>0</td>\n",
       "      <td>-29.7</td>\n",
       "      <td>330</td>\n",
       "      <td>381</td>\n",
       "    </tr>\n",
       "  </tbody>\n",
       "</table>\n",
       "<p>2 rows × 22 columns</p>\n",
       "</div>"
      ],
      "text/plain": [
       "    Mn  Co  Cu  Ga  Ge  Nb  Ni  Si   Sn   Zn  ...  B  Fe  Ag  element_B  Sb  \\\n",
       "1  3.1   0   0   0   0   0   0   0  0.4  0.5  ...  0   0   0          2   0   \n",
       "2  3.1   0   0   0   0   0   0   0  0.3  0.6  ...  0   0   0          2   0   \n",
       "\n",
       "   Cr  Re  alpha   t1   t2  \n",
       "1   0   0  -25.3  313  371  \n",
       "2   0   0  -29.7  330  381  \n",
       "\n",
       "[2 rows x 22 columns]"
      ]
     },
     "execution_count": 79,
     "metadata": {},
     "output_type": "execute_result"
    }
   ],
   "source": [
    "data_truth_val.head()"
   ]
  },
  {
   "cell_type": "code",
   "execution_count": 60,
   "metadata": {},
   "outputs": [],
   "source": [
    "alpha_new = data_epoch['alpha']"
   ]
  },
  {
   "cell_type": "code",
   "execution_count": 61,
   "metadata": {},
   "outputs": [
    {
     "data": {
      "image/png": "[encoded data removed]",
      "text/plain": [
       "<Figure size 864x288 with 2 Axes>"
      ]
     },
     "metadata": {
      "needs_background": "light"
     },
     "output_type": "display_data"
    }
   ],
   "source": [
    "plt.figure(figsize=(12,4))\n",
    "plt.subplot(1,2,1)\n",
    "sns.distplot(alpha_new.dropna(),fit=stats.norm,);\n",
    "plt.ylabel(\"Frequency / Group distance\")\n",
    "plt.xlabel('The negative thermal expansion coefficient')\n",
    "plt.subplot(1,2,2)\n",
    "_ = stats.probplot(alpha_new.dropna(),plot=plt)"
   ]
  },
  {
   "cell_type": "code",
   "execution_count": 62,
   "metadata": {},
   "outputs": [
    {
     "data": {
      "text/plain": [
       "(22, 23)"
      ]
     },
     "execution_count": 62,
     "metadata": {},
     "output_type": "execute_result"
    }
   ],
   "source": [
    "data_epoch.shape"
   ]
  },
  {
   "cell_type": "code",
   "execution_count": 63,
   "metadata": {},
   "outputs": [],
   "source": [
    "data_epoch = data_epoch[['Mn', 'Co', 'Cu', 'Ga', 'Ge', 'Nb', 'Ni', 'Si', 'Sn',\n",
    "       'Zn', 'N', 'C', 'B', 'Fe', 'Ag', 'element_B', 'Sb', 'Cr', 'Re', 'alpha',\n",
    "       't1', 't2']]\n",
    "data_truth_val = data_truth_val[['Mn', 'Co', 'Cu', 'Ga', 'Ge', 'Nb', 'Ni', 'Si', 'Sn',\n",
    "       'Zn', 'N', 'C', 'B', 'Fe', 'Ag', 'element_B', 'Sb', 'Cr', 'Re', 'alpha',\n",
    "       't1', 't2']]"
   ]
  },
  {
   "cell_type": "code",
   "execution_count": 67,
   "metadata": {},
   "outputs": [
    {
     "name": "stdout",
     "output_type": "stream",
     "text": [
      "False\n",
      "97\n",
      "0.8356106613880678\n"
     ]
    },
    {
     "data": {
      "image/png": "[encoded data removed]",
      "text/plain": [
       "<Figure size 432x288 with 1 Axes>"
      ]
     },
     "metadata": {
      "needs_background": "light"
     },
     "output_type": "display_data"
    }
   ],
   "source": [
    "data_epoch = data_epoch.fillna(0)\n",
    "print(data_epoch.isnull().any().any())\n",
    "\n",
    "x = data_epoch.iloc[:,0:19]\n",
    "y = data_epoch.iloc[:,19] \n",
    "\n",
    "standar = StandardScaler()\n",
    "x1 = pd.DataFrame(standar.fit_transform(x))  # 对x做正则化\n",
    "\n",
    "train_scores = []\n",
    "test_scores = []\n",
    "for i in range(1,1000,1):\n",
    "    clf = SVR(C=i)\n",
    "    train, test = kfold_relative_error(clf,x1,y)\n",
    "    train_scores.append(train)\n",
    "    test_scores.append(test)\n",
    "plt.plot(test_scores, color='green',label=\"test\")\n",
    "plt.plot(train_scores, color='red',label='train')\n",
    "plt.title(\"number of estimator VS cv error\")\n",
    "best_c = test_scores.index(max(test_scores))+1\n",
    "print(best_c)\n",
    "print(np.max(test_scores))"
   ]
  },
  {
   "cell_type": "code",
   "execution_count": 80,
   "metadata": {},
   "outputs": [
    {
     "name": "stdout",
     "output_type": "stream",
     "text": [
      "1   -25.3\n",
      "2   -29.7\n",
      "Name: alpha, dtype: float64 [-23.64113101 -28.42928416]\n"
     ]
    }
   ],
   "source": [
    "x_test = data_truth_val.iloc[:,0:19]\n",
    "y_test = data_truth_val.iloc[:,19]\n",
    "x_test = pd.DataFrame(standar.fit_transform(x_test)) \n",
    "clf = SVR(C=best_c)\n",
    "clf.fit(x,y)\n",
    "y_test_predict = clf.predict(x_test)\n",
    "print(y_test,y_test_predict)"
   ]
  },
  {
   "cell_type": "markdown",
   "metadata": {},
   "source": [
    "## Calculating manual sample performance"
   ]
  },
  {
   "cell_type": "code",
   "execution_count": 74,
   "metadata": {},
   "outputs": [],
   "source": [
    "data_truth_val = pd.read_excel('data_arti_choose_new.xlsx')\n",
    "data_truth_val = data_truth_val[['Mn', 'Co', 'Cu', 'Ga', 'Ge', 'Nb', 'Ni', 'Si', 'Sn',\n",
    "       'Zn', 'N', 'C', 'B', 'Fe', 'Ag', 'element_B', 'Sb', 'Cr', 'Re']]"
   ]
  },
  {
   "cell_type": "code",
   "execution_count": 75,
   "metadata": {},
   "outputs": [
    {
     "name": "stdout",
     "output_type": "stream",
     "text": [
      "-32.92774819671989\n",
      "-32.70651654800717\n",
      "-30.877996409436882\n",
      "-27.724645037679124\n",
      "-23.81367477585111\n",
      "-19.830305690438177\n",
      "-16.381697825270304\n",
      "-13.84854673210409\n",
      "-33.58693368085071\n",
      "-32.573798423524536\n",
      "-29.996888312391626\n",
      "-26.30063529101513\n",
      "-22.151545856738807\n",
      "-18.241863716099278\n",
      "-15.101548410152347\n",
      "-20.220640195409242\n",
      "-16.67020291486696\n",
      "-28.209324622909886\n",
      "-31.326747185061155\n",
      "-33.06781316422705\n",
      "-24.276054469341027\n",
      "-31.46290271673008\n",
      "-29.182568401409753\n",
      "-25.81881825170507\n",
      "-21.980356704382558\n",
      "-18.313918171049163\n",
      "-29.04409242936117\n",
      "-26.49111386300819\n",
      "-23.193526191132356\n",
      "-19.736688765966537\n",
      "-26.18787818828338\n",
      "-23.64206802056749\n",
      "-20.674387031146058\n",
      "-23.280189003917965\n",
      "-20.97419397817563\n",
      "-20.633612556569155\n",
      "-31.203433924657634\n",
      "-31.70159220889055\n",
      "-30.697532890222625\n",
      "-28.299475494636475\n",
      "-24.92400918639028\n",
      "-21.17782576092362\n",
      "-17.67956089336174\n",
      "-14.893560665066971\n",
      "-13.036608302534875\n"
     ]
    }
   ],
   "source": [
    "clf = SVR(C=best_c)\n",
    "clf.fit(x1,y)\n",
    "\n",
    "x_val = data_truth_val.iloc[:,0:19]\n",
    "# y_val = data_truth_val.iloc[:,19]\n",
    "standar = StandardScaler()\n",
    "x_val = pd.DataFrame(standar.fit_transform(x_val))\n",
    "y_pre = clf.predict(x_val)\n",
    "for i in y_pre:\n",
    "    print(i)"
   ]
  }
 ],
 "metadata": {
  "kernelspec": {
   "display_name": "Python 3 (ipykernel)",
   "language": "python",
   "name": "python3"
  },
  "language_info": {
   "codemirror_mode": {
    "name": "ipython",
    "version": 3
   },
   "file_extension": ".py",
   "mimetype": "text/x-python",
   "name": "python",
   "nbconvert_exporter": "python",
   "pygments_lexer": "ipython3",
   "version": "3.7.6"
  },
  "toc": {
   "base_numbering": 1,
   "nav_menu": {},
   "number_sections": true,
   "sideBar": true,
   "skip_h1_title": false,
   "title_cell": "Table of Contents",
   "title_sidebar": "Contents",
   "toc_cell": false,
   "toc_position": {
    "height": "calc(100% - 180px)",
    "left": "10px",
    "top": "150px",
    "width": "247px"
   },
   "toc_section_display": true,
   "toc_window_display": true
  },
  "varInspector": {
   "cols": {
    "lenName": 16,
    "lenType": 16,
    "lenVar": 40
   },
   "kernels_config": {
    "python": {
     "delete_cmd_postfix": "",
     "delete_cmd_prefix": "del ",
     "library": "var_list.py",
     "varRefreshCmd": "print(var_dic_list())"
    },
    "r": {
     "delete_cmd_postfix": ") ",
     "delete_cmd_prefix": "rm(",
     "library": "var_list.r",
     "varRefreshCmd": "cat(var_dic_list()) "
    }
   },
   "types_to_exclude": [
    "module",
    "function",
    "builtin_function_or_method",
    "instance",
    "_Feature"
   ],
   "window_display": false
  }
 },
 "nbformat": 4,
 "nbformat_minor": 4
}
